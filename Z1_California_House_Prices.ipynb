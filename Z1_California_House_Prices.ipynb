{
 "cells": [
  {
   "cell_type": "markdown",
   "metadata": {},
   "source": [
    "# California Housing Price Prediction"
   ]
  },
  {
   "cell_type": "code",
   "execution_count": 2,
   "metadata": {},
   "outputs": [
    {
     "data": {
      "text/html": [
       "<style>.container { width:100%; }</style>"
      ],
      "text/plain": [
       "<IPython.core.display.HTML object>"
      ]
     },
     "metadata": {},
     "output_type": "display_data"
    }
   ],
   "source": [
    "import os\n",
    "import tarfile\n",
    "import requests\n",
    "from pathlib import Path\n",
    "import pandas as pd\n",
    "import numpy as np\n",
    "import matplotlib.pyplot as plt\n",
    "\n",
    "from IPython.core.display import display, HTML\n",
    "display(HTML(\"<style>.container { width:100%; }</style>\"))\n",
    "np.set_printoptions(precision=3, suppress=True)"
   ]
  },
  {
   "cell_type": "code",
   "execution_count": 3,
   "metadata": {},
   "outputs": [],
   "source": [
    "DOWNLOAD_ROOT = \"https://raw.githubusercontent.com/ageron/handson-ml/master/\"\n",
    "HOUSING_PATH = Path(\"datasets/housing\")\n",
    "\n",
    "def fetch_housing_data(dwld_path=DOWNLOAD_ROOT, housing_path=HOUSING_PATH):\n",
    "    housing_path.mkdir(parents=True, exist_ok=True)\n",
    "    tgz_path = housing_path / \"housing.tgz\"\n",
    "    resp = requests.get(dwld_path + str(tgz_path))\n",
    "    with open(tgz_path, \"wb\") as f:\n",
    "        f.write(resp.content)        \n",
    "    housing_tgz = tarfile.open(tgz_path)\n",
    "    housing_tgz.extractall(path=housing_path)\n",
    "    housing_tgz.close()"
   ]
  },
  {
   "cell_type": "code",
   "execution_count": 4,
   "metadata": {},
   "outputs": [],
   "source": [
    "fetch_housing_data()"
   ]
  },
  {
   "cell_type": "code",
   "execution_count": 5,
   "metadata": {},
   "outputs": [],
   "source": [
    "def load_housing_data(housing_path=HOUSING_PATH):\n",
    "    csv_path = housing_path / \"housing.csv\"\n",
    "    return pd.read_csv(csv_path)"
   ]
  },
  {
   "cell_type": "code",
   "execution_count": 6,
   "metadata": {},
   "outputs": [
    {
     "name": "stdout",
     "output_type": "stream",
     "text": [
      "<class 'pandas.core.frame.DataFrame'>\n",
      "RangeIndex: 20640 entries, 0 to 20639\n",
      "Data columns (total 10 columns):\n",
      "longitude             20640 non-null float64\n",
      "latitude              20640 non-null float64\n",
      "housing_median_age    20640 non-null float64\n",
      "total_rooms           20640 non-null float64\n",
      "total_bedrooms        20433 non-null float64\n",
      "population            20640 non-null float64\n",
      "households            20640 non-null float64\n",
      "median_income         20640 non-null float64\n",
      "median_house_value    20640 non-null float64\n",
      "ocean_proximity       20640 non-null object\n",
      "dtypes: float64(9), object(1)\n",
      "memory usage: 1.6+ MB\n"
     ]
    }
   ],
   "source": [
    "## Inspect column types and count for missing values \n",
    "\n",
    "housing = load_housing_data()\n",
    "housing.info()"
   ]
  },
  {
   "cell_type": "code",
   "execution_count": 7,
   "metadata": {},
   "outputs": [
    {
     "data": {
      "text/html": [
       "<div>\n",
       "<style scoped>\n",
       "    .dataframe tbody tr th:only-of-type {\n",
       "        vertical-align: middle;\n",
       "    }\n",
       "\n",
       "    .dataframe tbody tr th {\n",
       "        vertical-align: top;\n",
       "    }\n",
       "\n",
       "    .dataframe thead th {\n",
       "        text-align: right;\n",
       "    }\n",
       "</style>\n",
       "<table border=\"1\" class=\"dataframe\">\n",
       "  <thead>\n",
       "    <tr style=\"text-align: right;\">\n",
       "      <th></th>\n",
       "      <th>longitude</th>\n",
       "      <th>latitude</th>\n",
       "      <th>housing_median_age</th>\n",
       "      <th>total_rooms</th>\n",
       "      <th>total_bedrooms</th>\n",
       "      <th>population</th>\n",
       "      <th>households</th>\n",
       "      <th>median_income</th>\n",
       "      <th>median_house_value</th>\n",
       "      <th>ocean_proximity</th>\n",
       "    </tr>\n",
       "  </thead>\n",
       "  <tbody>\n",
       "    <tr>\n",
       "      <th>0</th>\n",
       "      <td>-122.23</td>\n",
       "      <td>37.88</td>\n",
       "      <td>41.0</td>\n",
       "      <td>880.0</td>\n",
       "      <td>129.0</td>\n",
       "      <td>322.0</td>\n",
       "      <td>126.0</td>\n",
       "      <td>8.3252</td>\n",
       "      <td>452600.0</td>\n",
       "      <td>NEAR BAY</td>\n",
       "    </tr>\n",
       "    <tr>\n",
       "      <th>1</th>\n",
       "      <td>-122.22</td>\n",
       "      <td>37.86</td>\n",
       "      <td>21.0</td>\n",
       "      <td>7099.0</td>\n",
       "      <td>1106.0</td>\n",
       "      <td>2401.0</td>\n",
       "      <td>1138.0</td>\n",
       "      <td>8.3014</td>\n",
       "      <td>358500.0</td>\n",
       "      <td>NEAR BAY</td>\n",
       "    </tr>\n",
       "    <tr>\n",
       "      <th>2</th>\n",
       "      <td>-122.24</td>\n",
       "      <td>37.85</td>\n",
       "      <td>52.0</td>\n",
       "      <td>1467.0</td>\n",
       "      <td>190.0</td>\n",
       "      <td>496.0</td>\n",
       "      <td>177.0</td>\n",
       "      <td>7.2574</td>\n",
       "      <td>352100.0</td>\n",
       "      <td>NEAR BAY</td>\n",
       "    </tr>\n",
       "    <tr>\n",
       "      <th>3</th>\n",
       "      <td>-122.25</td>\n",
       "      <td>37.85</td>\n",
       "      <td>52.0</td>\n",
       "      <td>1274.0</td>\n",
       "      <td>235.0</td>\n",
       "      <td>558.0</td>\n",
       "      <td>219.0</td>\n",
       "      <td>5.6431</td>\n",
       "      <td>341300.0</td>\n",
       "      <td>NEAR BAY</td>\n",
       "    </tr>\n",
       "    <tr>\n",
       "      <th>4</th>\n",
       "      <td>-122.25</td>\n",
       "      <td>37.85</td>\n",
       "      <td>52.0</td>\n",
       "      <td>1627.0</td>\n",
       "      <td>280.0</td>\n",
       "      <td>565.0</td>\n",
       "      <td>259.0</td>\n",
       "      <td>3.8462</td>\n",
       "      <td>342200.0</td>\n",
       "      <td>NEAR BAY</td>\n",
       "    </tr>\n",
       "  </tbody>\n",
       "</table>\n",
       "</div>"
      ],
      "text/plain": [
       "   longitude  latitude  housing_median_age  total_rooms  total_bedrooms  \\\n",
       "0    -122.23     37.88                41.0        880.0           129.0   \n",
       "1    -122.22     37.86                21.0       7099.0          1106.0   \n",
       "2    -122.24     37.85                52.0       1467.0           190.0   \n",
       "3    -122.25     37.85                52.0       1274.0           235.0   \n",
       "4    -122.25     37.85                52.0       1627.0           280.0   \n",
       "\n",
       "   population  households  median_income  median_house_value ocean_proximity  \n",
       "0       322.0       126.0         8.3252            452600.0        NEAR BAY  \n",
       "1      2401.0      1138.0         8.3014            358500.0        NEAR BAY  \n",
       "2       496.0       177.0         7.2574            352100.0        NEAR BAY  \n",
       "3       558.0       219.0         5.6431            341300.0        NEAR BAY  \n",
       "4       565.0       259.0         3.8462            342200.0        NEAR BAY  "
      ]
     },
     "execution_count": 7,
     "metadata": {},
     "output_type": "execute_result"
    }
   ],
   "source": [
    "housing.head()"
   ]
  },
  {
   "cell_type": "code",
   "execution_count": 8,
   "metadata": {},
   "outputs": [
    {
     "data": {
      "text/html": [
       "<div>\n",
       "<style scoped>\n",
       "    .dataframe tbody tr th:only-of-type {\n",
       "        vertical-align: middle;\n",
       "    }\n",
       "\n",
       "    .dataframe tbody tr th {\n",
       "        vertical-align: top;\n",
       "    }\n",
       "\n",
       "    .dataframe thead th {\n",
       "        text-align: right;\n",
       "    }\n",
       "</style>\n",
       "<table border=\"1\" class=\"dataframe\">\n",
       "  <thead>\n",
       "    <tr style=\"text-align: right;\">\n",
       "      <th></th>\n",
       "      <th>longitude</th>\n",
       "      <th>latitude</th>\n",
       "      <th>housing_median_age</th>\n",
       "      <th>total_rooms</th>\n",
       "      <th>total_bedrooms</th>\n",
       "      <th>population</th>\n",
       "      <th>households</th>\n",
       "      <th>median_income</th>\n",
       "      <th>median_house_value</th>\n",
       "    </tr>\n",
       "  </thead>\n",
       "  <tbody>\n",
       "    <tr>\n",
       "      <th>count</th>\n",
       "      <td>20640.000000</td>\n",
       "      <td>20640.000000</td>\n",
       "      <td>20640.000000</td>\n",
       "      <td>20640.000000</td>\n",
       "      <td>20433.000000</td>\n",
       "      <td>20640.000000</td>\n",
       "      <td>20640.000000</td>\n",
       "      <td>20640.000000</td>\n",
       "      <td>20640.000000</td>\n",
       "    </tr>\n",
       "    <tr>\n",
       "      <th>mean</th>\n",
       "      <td>-119.569704</td>\n",
       "      <td>35.631861</td>\n",
       "      <td>28.639486</td>\n",
       "      <td>2635.763081</td>\n",
       "      <td>537.870553</td>\n",
       "      <td>1425.476744</td>\n",
       "      <td>499.539680</td>\n",
       "      <td>3.870671</td>\n",
       "      <td>206855.816909</td>\n",
       "    </tr>\n",
       "    <tr>\n",
       "      <th>std</th>\n",
       "      <td>2.003532</td>\n",
       "      <td>2.135952</td>\n",
       "      <td>12.585558</td>\n",
       "      <td>2181.615252</td>\n",
       "      <td>421.385070</td>\n",
       "      <td>1132.462122</td>\n",
       "      <td>382.329753</td>\n",
       "      <td>1.899822</td>\n",
       "      <td>115395.615874</td>\n",
       "    </tr>\n",
       "    <tr>\n",
       "      <th>min</th>\n",
       "      <td>-124.350000</td>\n",
       "      <td>32.540000</td>\n",
       "      <td>1.000000</td>\n",
       "      <td>2.000000</td>\n",
       "      <td>1.000000</td>\n",
       "      <td>3.000000</td>\n",
       "      <td>1.000000</td>\n",
       "      <td>0.499900</td>\n",
       "      <td>14999.000000</td>\n",
       "    </tr>\n",
       "    <tr>\n",
       "      <th>25%</th>\n",
       "      <td>-121.800000</td>\n",
       "      <td>33.930000</td>\n",
       "      <td>18.000000</td>\n",
       "      <td>1447.750000</td>\n",
       "      <td>296.000000</td>\n",
       "      <td>787.000000</td>\n",
       "      <td>280.000000</td>\n",
       "      <td>2.563400</td>\n",
       "      <td>119600.000000</td>\n",
       "    </tr>\n",
       "    <tr>\n",
       "      <th>50%</th>\n",
       "      <td>-118.490000</td>\n",
       "      <td>34.260000</td>\n",
       "      <td>29.000000</td>\n",
       "      <td>2127.000000</td>\n",
       "      <td>435.000000</td>\n",
       "      <td>1166.000000</td>\n",
       "      <td>409.000000</td>\n",
       "      <td>3.534800</td>\n",
       "      <td>179700.000000</td>\n",
       "    </tr>\n",
       "    <tr>\n",
       "      <th>75%</th>\n",
       "      <td>-118.010000</td>\n",
       "      <td>37.710000</td>\n",
       "      <td>37.000000</td>\n",
       "      <td>3148.000000</td>\n",
       "      <td>647.000000</td>\n",
       "      <td>1725.000000</td>\n",
       "      <td>605.000000</td>\n",
       "      <td>4.743250</td>\n",
       "      <td>264725.000000</td>\n",
       "    </tr>\n",
       "    <tr>\n",
       "      <th>max</th>\n",
       "      <td>-114.310000</td>\n",
       "      <td>41.950000</td>\n",
       "      <td>52.000000</td>\n",
       "      <td>39320.000000</td>\n",
       "      <td>6445.000000</td>\n",
       "      <td>35682.000000</td>\n",
       "      <td>6082.000000</td>\n",
       "      <td>15.000100</td>\n",
       "      <td>500001.000000</td>\n",
       "    </tr>\n",
       "  </tbody>\n",
       "</table>\n",
       "</div>"
      ],
      "text/plain": [
       "          longitude      latitude  housing_median_age   total_rooms  \\\n",
       "count  20640.000000  20640.000000        20640.000000  20640.000000   \n",
       "mean    -119.569704     35.631861           28.639486   2635.763081   \n",
       "std        2.003532      2.135952           12.585558   2181.615252   \n",
       "min     -124.350000     32.540000            1.000000      2.000000   \n",
       "25%     -121.800000     33.930000           18.000000   1447.750000   \n",
       "50%     -118.490000     34.260000           29.000000   2127.000000   \n",
       "75%     -118.010000     37.710000           37.000000   3148.000000   \n",
       "max     -114.310000     41.950000           52.000000  39320.000000   \n",
       "\n",
       "       total_bedrooms    population    households  median_income  \\\n",
       "count    20433.000000  20640.000000  20640.000000   20640.000000   \n",
       "mean       537.870553   1425.476744    499.539680       3.870671   \n",
       "std        421.385070   1132.462122    382.329753       1.899822   \n",
       "min          1.000000      3.000000      1.000000       0.499900   \n",
       "25%        296.000000    787.000000    280.000000       2.563400   \n",
       "50%        435.000000   1166.000000    409.000000       3.534800   \n",
       "75%        647.000000   1725.000000    605.000000       4.743250   \n",
       "max       6445.000000  35682.000000   6082.000000      15.000100   \n",
       "\n",
       "       median_house_value  \n",
       "count        20640.000000  \n",
       "mean        206855.816909  \n",
       "std         115395.615874  \n",
       "min          14999.000000  \n",
       "25%         119600.000000  \n",
       "50%         179700.000000  \n",
       "75%         264725.000000  \n",
       "max         500001.000000  "
      ]
     },
     "execution_count": 8,
     "metadata": {},
     "output_type": "execute_result"
    }
   ],
   "source": [
    "housing.describe()"
   ]
  },
  {
   "cell_type": "code",
   "execution_count": 9,
   "metadata": {},
   "outputs": [
    {
     "data": {
      "text/plain": [
       "array([[<matplotlib.axes._subplots.AxesSubplot object at 0x10fd18350>,\n",
       "        <matplotlib.axes._subplots.AxesSubplot object at 0x10fd5c550>,\n",
       "        <matplotlib.axes._subplots.AxesSubplot object at 0x10fd90a10>],\n",
       "       [<matplotlib.axes._subplots.AxesSubplot object at 0x10fdd0210>,\n",
       "        <matplotlib.axes._subplots.AxesSubplot object at 0x10fe06a10>,\n",
       "        <matplotlib.axes._subplots.AxesSubplot object at 0x11eaab250>],\n",
       "       [<matplotlib.axes._subplots.AxesSubplot object at 0x11eaf54d0>,\n",
       "        <matplotlib.axes._subplots.AxesSubplot object at 0x11eb21290>,\n",
       "        <matplotlib.axes._subplots.AxesSubplot object at 0x11eb33850>]],\n",
       "      dtype=object)"
      ]
     },
     "execution_count": 9,
     "metadata": {},
     "output_type": "execute_result"
    },
    {
     "data": {
      "image/png": "[encoded data removed]",
      "text/plain": [
       "<Figure size 1440x1080 with 9 Axes>"
      ]
     },
     "metadata": {
      "needs_background": "light"
     },
     "output_type": "display_data"
    }
   ],
   "source": [
    "## Some columns are capped to a maximum value for e.g housing_median_age and median_house_value\n",
    "housing.hist(bins=50, figsize=(20, 15))"
   ]
  },
  {
   "cell_type": "markdown",
   "metadata": {},
   "source": [
    "### Inspect Categorical Data"
   ]
  },
  {
   "cell_type": "code",
   "execution_count": 10,
   "metadata": {},
   "outputs": [
    {
     "data": {
      "text/plain": [
       "array(['NEAR BAY', '<1H OCEAN', 'INLAND', 'NEAR OCEAN', 'ISLAND'],\n",
       "      dtype=object)"
      ]
     },
     "execution_count": 10,
     "metadata": {},
     "output_type": "execute_result"
    }
   ],
   "source": [
    "housing[\"ocean_proximity\"].unique()"
   ]
  },
  {
   "cell_type": "code",
   "execution_count": 11,
   "metadata": {},
   "outputs": [
    {
     "data": {
      "text/plain": [
       "<1H OCEAN     9136\n",
       "INLAND        6551\n",
       "NEAR OCEAN    2658\n",
       "NEAR BAY      2290\n",
       "ISLAND           5\n",
       "Name: ocean_proximity, dtype: int64"
      ]
     },
     "execution_count": 11,
     "metadata": {},
     "output_type": "execute_result"
    }
   ],
   "source": [
    "housing[\"ocean_proximity\"].value_counts()"
   ]
  },
  {
   "cell_type": "markdown",
   "metadata": {},
   "source": [
    "### Visualizing Geographic Data"
   ]
  },
  {
   "cell_type": "code",
   "execution_count": 12,
   "metadata": {},
   "outputs": [
    {
     "data": {
      "text/plain": [
       "<matplotlib.axes._subplots.AxesSubplot at 0x1233df950>"
      ]
     },
     "execution_count": 12,
     "metadata": {},
     "output_type": "execute_result"
    },
    {
     "data": {
      "image/png": "[encoded data removed]",
      "text/plain": [
       "<Figure size 432x288 with 1 Axes>"
      ]
     },
     "metadata": {
      "needs_background": "light"
     },
     "output_type": "display_data"
    }
   ],
   "source": [
    "## Inspect longitude and latitude\n",
    "\n",
    "housing.plot(kind=\"scatter\", x=\"longitude\", y=\"latitude\", alpha=0.2)"
   ]
  },
  {
   "cell_type": "code",
   "execution_count": 13,
   "metadata": {},
   "outputs": [
    {
     "data": {
      "text/plain": [
       "<matplotlib.axes._subplots.AxesSubplot at 0x1204299d0>"
      ]
     },
     "execution_count": 13,
     "metadata": {},
     "output_type": "execute_result"
    },
    {
     "data": {
      "image/png": "[encoded data removed]",
      "text/plain": [
       "<Figure size 432x288 with 2 Axes>"
      ]
     },
     "metadata": {
      "needs_background": "light"
     },
     "output_type": "display_data"
    }
   ],
   "source": [
    "housing.plot(kind=\"scatter\", x=\"longitude\", y=\"latitude\", alpha=0.3, \n",
    "             s=housing[\"population\"]/100,\n",
    "             label=\"population\",\n",
    "             c=\"median_house_value\",\n",
    "             cmap=plt.get_cmap(\"jet\"),\n",
    "             colorbar=True)"
   ]
  },
  {
   "cell_type": "code",
   "execution_count": 14,
   "metadata": {},
   "outputs": [
    {
     "data": {
      "text/plain": [
       "<matplotlib.axes._subplots.AxesSubplot at 0x1204f6650>"
      ]
     },
     "execution_count": 14,
     "metadata": {},
     "output_type": "execute_result"
    },
    {
     "data": {
      "image/png": "[encoded data removed]",
      "text/plain": [
       "<Figure size 432x288 with 1 Axes>"
      ]
     },
     "metadata": {
      "needs_background": "light"
     },
     "output_type": "display_data"
    }
   ],
   "source": [
    "## Higher median income likely results in higher median house price\n",
    "\n",
    "housing[\"median_income\"].hist(bins=50)"
   ]
  },
  {
   "cell_type": "code",
   "execution_count": 15,
   "metadata": {},
   "outputs": [],
   "source": [
    "# housing[\"cat_income\"] = np.ceil(housing[\"median_income\"] / 1.5)\n",
    "# housing[\"cat_income\"].where(housing[\"cat_income\"] < 5, 5.0, inplace=True)\n",
    "\n",
    "housing[\"cat_income\"] = pd.cut(housing[\"median_income\"],\n",
    "                               bins=[0, 1.5, 3, 4.5, 6, np.inf], \n",
    "                               labels=[1, 2, 3, 4, 5])"
   ]
  },
  {
   "cell_type": "code",
   "execution_count": 16,
   "metadata": {},
   "outputs": [
    {
     "data": {
      "text/plain": [
       "<matplotlib.axes._subplots.AxesSubplot at 0x120721ad0>"
      ]
     },
     "execution_count": 16,
     "metadata": {},
     "output_type": "execute_result"
    },
    {
     "data": {
      "image/png": "[encoded data removed]",
      "text/plain": [
       "<Figure size 432x288 with 1 Axes>"
      ]
     },
     "metadata": {
      "needs_background": "light"
     },
     "output_type": "display_data"
    }
   ],
   "source": [
    "housing[\"cat_income\"].hist()"
   ]
  },
  {
   "cell_type": "code",
   "execution_count": 17,
   "metadata": {},
   "outputs": [
    {
     "data": {
      "text/plain": [
       "3    0.350581\n",
       "2    0.318847\n",
       "4    0.176308\n",
       "5    0.114438\n",
       "1    0.039826\n",
       "Name: cat_income, dtype: float64"
      ]
     },
     "execution_count": 17,
     "metadata": {},
     "output_type": "execute_result"
    }
   ],
   "source": [
    "housing[\"cat_income\"].value_counts() / len(housing[\"cat_income\"])"
   ]
  },
  {
   "cell_type": "code",
   "execution_count": 18,
   "metadata": {},
   "outputs": [],
   "source": [
    "# from sklearn.model_selection import train_test_split\n",
    "# housing_train, housing_test = train_test_split(housing, test_size=0.2)\n",
    "\n",
    "## Split training and test sets according to distribution of income \n",
    "from sklearn.model_selection import StratifiedShuffleSplit\n",
    "\n",
    "strat_split = StratifiedShuffleSplit(n_splits=1, test_size=0.2)\n",
    "for train_idx, test_idx in strat_split.split(housing, housing[\"cat_income\"]):\n",
    "    housing_train = housing.loc[train_idx]\n",
    "    housing_test = housing.loc[test_idx]"
   ]
  },
  {
   "cell_type": "code",
   "execution_count": 19,
   "metadata": {},
   "outputs": [
    {
     "data": {
      "text/plain": [
       "(16512, 4128, 20640)"
      ]
     },
     "execution_count": 19,
     "metadata": {},
     "output_type": "execute_result"
    }
   ],
   "source": [
    "len(housing_train), len(housing_test), len(housing_train) + len(housing_test) "
   ]
  },
  {
   "cell_type": "code",
   "execution_count": 20,
   "metadata": {},
   "outputs": [
    {
     "data": {
      "text/plain": [
       "3    0.350594\n",
       "2    0.318859\n",
       "4    0.176296\n",
       "5    0.114402\n",
       "1    0.039850\n",
       "Name: cat_income, dtype: float64"
      ]
     },
     "execution_count": 20,
     "metadata": {},
     "output_type": "execute_result"
    }
   ],
   "source": [
    "housing_train[\"cat_income\"].value_counts() / len(housing_train[\"cat_income\"])"
   ]
  },
  {
   "cell_type": "code",
   "execution_count": 21,
   "metadata": {},
   "outputs": [
    {
     "data": {
      "text/plain": [
       "3    0.350533\n",
       "2    0.318798\n",
       "4    0.176357\n",
       "5    0.114583\n",
       "1    0.039729\n",
       "Name: cat_income, dtype: float64"
      ]
     },
     "execution_count": 21,
     "metadata": {},
     "output_type": "execute_result"
    }
   ],
   "source": [
    "housing_test[\"cat_income\"].value_counts() / len(housing_test[\"cat_income\"])"
   ]
  },
  {
   "cell_type": "code",
   "execution_count": 22,
   "metadata": {},
   "outputs": [],
   "source": [
    "for dataset in (housing_train, housing_test):\n",
    "    dataset.drop([\"cat_income\"], axis=1, inplace=True)"
   ]
  },
  {
   "cell_type": "code",
   "execution_count": 23,
   "metadata": {},
   "outputs": [
    {
     "data": {
      "text/html": [
       "<div>\n",
       "<style scoped>\n",
       "    .dataframe tbody tr th:only-of-type {\n",
       "        vertical-align: middle;\n",
       "    }\n",
       "\n",
       "    .dataframe tbody tr th {\n",
       "        vertical-align: top;\n",
       "    }\n",
       "\n",
       "    .dataframe thead th {\n",
       "        text-align: right;\n",
       "    }\n",
       "</style>\n",
       "<table border=\"1\" class=\"dataframe\">\n",
       "  <thead>\n",
       "    <tr style=\"text-align: right;\">\n",
       "      <th></th>\n",
       "      <th>longitude</th>\n",
       "      <th>latitude</th>\n",
       "      <th>housing_median_age</th>\n",
       "      <th>total_rooms</th>\n",
       "      <th>total_bedrooms</th>\n",
       "      <th>population</th>\n",
       "      <th>households</th>\n",
       "      <th>median_income</th>\n",
       "      <th>median_house_value</th>\n",
       "    </tr>\n",
       "  </thead>\n",
       "  <tbody>\n",
       "    <tr>\n",
       "      <th>longitude</th>\n",
       "      <td>1.000000</td>\n",
       "      <td>-0.924868</td>\n",
       "      <td>-0.112561</td>\n",
       "      <td>0.043151</td>\n",
       "      <td>0.067330</td>\n",
       "      <td>0.099235</td>\n",
       "      <td>0.052913</td>\n",
       "      <td>-0.009870</td>\n",
       "      <td>-0.046672</td>\n",
       "    </tr>\n",
       "    <tr>\n",
       "      <th>latitude</th>\n",
       "      <td>-0.924868</td>\n",
       "      <td>1.000000</td>\n",
       "      <td>0.014335</td>\n",
       "      <td>-0.035928</td>\n",
       "      <td>-0.065222</td>\n",
       "      <td>-0.108451</td>\n",
       "      <td>-0.068837</td>\n",
       "      <td>-0.085065</td>\n",
       "      <td>-0.144167</td>\n",
       "    </tr>\n",
       "    <tr>\n",
       "      <th>housing_median_age</th>\n",
       "      <td>-0.112561</td>\n",
       "      <td>0.014335</td>\n",
       "      <td>1.000000</td>\n",
       "      <td>-0.356241</td>\n",
       "      <td>-0.316678</td>\n",
       "      <td>-0.299267</td>\n",
       "      <td>-0.298795</td>\n",
       "      <td>-0.117015</td>\n",
       "      <td>0.109907</td>\n",
       "    </tr>\n",
       "    <tr>\n",
       "      <th>total_rooms</th>\n",
       "      <td>0.043151</td>\n",
       "      <td>-0.035928</td>\n",
       "      <td>-0.356241</td>\n",
       "      <td>1.000000</td>\n",
       "      <td>0.930520</td>\n",
       "      <td>0.867745</td>\n",
       "      <td>0.918922</td>\n",
       "      <td>0.203815</td>\n",
       "      <td>0.135308</td>\n",
       "    </tr>\n",
       "    <tr>\n",
       "      <th>total_bedrooms</th>\n",
       "      <td>0.067330</td>\n",
       "      <td>-0.065222</td>\n",
       "      <td>-0.316678</td>\n",
       "      <td>0.930520</td>\n",
       "      <td>1.000000</td>\n",
       "      <td>0.888634</td>\n",
       "      <td>0.979891</td>\n",
       "      <td>-0.002620</td>\n",
       "      <td>0.050856</td>\n",
       "    </tr>\n",
       "    <tr>\n",
       "      <th>population</th>\n",
       "      <td>0.099235</td>\n",
       "      <td>-0.108451</td>\n",
       "      <td>-0.299267</td>\n",
       "      <td>0.867745</td>\n",
       "      <td>0.888634</td>\n",
       "      <td>1.000000</td>\n",
       "      <td>0.917546</td>\n",
       "      <td>0.009717</td>\n",
       "      <td>-0.023776</td>\n",
       "    </tr>\n",
       "    <tr>\n",
       "      <th>households</th>\n",
       "      <td>0.052913</td>\n",
       "      <td>-0.068837</td>\n",
       "      <td>-0.298795</td>\n",
       "      <td>0.918922</td>\n",
       "      <td>0.979891</td>\n",
       "      <td>0.917546</td>\n",
       "      <td>1.000000</td>\n",
       "      <td>0.018328</td>\n",
       "      <td>0.067123</td>\n",
       "    </tr>\n",
       "    <tr>\n",
       "      <th>median_income</th>\n",
       "      <td>-0.009870</td>\n",
       "      <td>-0.085065</td>\n",
       "      <td>-0.117015</td>\n",
       "      <td>0.203815</td>\n",
       "      <td>-0.002620</td>\n",
       "      <td>0.009717</td>\n",
       "      <td>0.018328</td>\n",
       "      <td>1.000000</td>\n",
       "      <td>0.686329</td>\n",
       "    </tr>\n",
       "    <tr>\n",
       "      <th>median_house_value</th>\n",
       "      <td>-0.046672</td>\n",
       "      <td>-0.144167</td>\n",
       "      <td>0.109907</td>\n",
       "      <td>0.135308</td>\n",
       "      <td>0.050856</td>\n",
       "      <td>-0.023776</td>\n",
       "      <td>0.067123</td>\n",
       "      <td>0.686329</td>\n",
       "      <td>1.000000</td>\n",
       "    </tr>\n",
       "  </tbody>\n",
       "</table>\n",
       "</div>"
      ],
      "text/plain": [
       "                    longitude  latitude  housing_median_age  total_rooms  \\\n",
       "longitude            1.000000 -0.924868           -0.112561     0.043151   \n",
       "latitude            -0.924868  1.000000            0.014335    -0.035928   \n",
       "housing_median_age  -0.112561  0.014335            1.000000    -0.356241   \n",
       "total_rooms          0.043151 -0.035928           -0.356241     1.000000   \n",
       "total_bedrooms       0.067330 -0.065222           -0.316678     0.930520   \n",
       "population           0.099235 -0.108451           -0.299267     0.867745   \n",
       "households           0.052913 -0.068837           -0.298795     0.918922   \n",
       "median_income       -0.009870 -0.085065           -0.117015     0.203815   \n",
       "median_house_value  -0.046672 -0.144167            0.109907     0.135308   \n",
       "\n",
       "                    total_bedrooms  population  households  median_income  \\\n",
       "longitude                 0.067330    0.099235    0.052913      -0.009870   \n",
       "latitude                 -0.065222   -0.108451   -0.068837      -0.085065   \n",
       "housing_median_age       -0.316678   -0.299267   -0.298795      -0.117015   \n",
       "total_rooms               0.930520    0.867745    0.918922       0.203815   \n",
       "total_bedrooms            1.000000    0.888634    0.979891      -0.002620   \n",
       "population                0.888634    1.000000    0.917546       0.009717   \n",
       "households                0.979891    0.917546    1.000000       0.018328   \n",
       "median_income            -0.002620    0.009717    0.018328       1.000000   \n",
       "median_house_value        0.050856   -0.023776    0.067123       0.686329   \n",
       "\n",
       "                    median_house_value  \n",
       "longitude                    -0.046672  \n",
       "latitude                     -0.144167  \n",
       "housing_median_age            0.109907  \n",
       "total_rooms                   0.135308  \n",
       "total_bedrooms                0.050856  \n",
       "population                   -0.023776  \n",
       "households                    0.067123  \n",
       "median_income                 0.686329  \n",
       "median_house_value            1.000000  "
      ]
     },
     "execution_count": 23,
     "metadata": {},
     "output_type": "execute_result"
    }
   ],
   "source": [
    "## Looking for Correlations \n",
    "\n",
    "corr_matrix = housing_train.corr()\n",
    "corr_matrix"
   ]
  },
  {
   "cell_type": "code",
   "execution_count": 24,
   "metadata": {},
   "outputs": [
    {
     "data": {
      "text/plain": [
       "median_house_value    1.000000\n",
       "median_income         0.686329\n",
       "total_rooms           0.135308\n",
       "housing_median_age    0.109907\n",
       "households            0.067123\n",
       "total_bedrooms        0.050856\n",
       "population           -0.023776\n",
       "longitude            -0.046672\n",
       "latitude             -0.144167\n",
       "Name: median_house_value, dtype: float64"
      ]
     },
     "execution_count": 24,
     "metadata": {},
     "output_type": "execute_result"
    }
   ],
   "source": [
    "corr_matrix[\"median_house_value\"].sort_values(ascending=False)"
   ]
  },
  {
   "cell_type": "code",
   "execution_count": 25,
   "metadata": {},
   "outputs": [
    {
     "data": {
      "text/plain": [
       "array([[<matplotlib.axes._subplots.AxesSubplot object at 0x10e9b5710>,\n",
       "        <matplotlib.axes._subplots.AxesSubplot object at 0x1301d0710>,\n",
       "        <matplotlib.axes._subplots.AxesSubplot object at 0x130204a10>,\n",
       "        <matplotlib.axes._subplots.AxesSubplot object at 0x13023f250>,\n",
       "        <matplotlib.axes._subplots.AxesSubplot object at 0x130281050>,\n",
       "        <matplotlib.axes._subplots.AxesSubplot object at 0x1302b86d0>,\n",
       "        <matplotlib.axes._subplots.AxesSubplot object at 0x130303950>],\n",
       "       [<matplotlib.axes._subplots.AxesSubplot object at 0x13032e710>,\n",
       "        <matplotlib.axes._subplots.AxesSubplot object at 0x13033fcd0>,\n",
       "        <matplotlib.axes._subplots.AxesSubplot object at 0x130381650>,\n",
       "        <matplotlib.axes._subplots.AxesSubplot object at 0x1303da3d0>,\n",
       "        <matplotlib.axes._subplots.AxesSubplot object at 0x130417790>,\n",
       "        <matplotlib.axes._subplots.AxesSubplot object at 0x13044f410>,\n",
       "        <matplotlib.axes._subplots.AxesSubplot object at 0x13048d7d0>],\n",
       "       [<matplotlib.axes._subplots.AxesSubplot object at 0x1304c6450>,\n",
       "        <matplotlib.axes._subplots.AxesSubplot object at 0x130502810>,\n",
       "        <matplotlib.axes._subplots.AxesSubplot object at 0x130541050>,\n",
       "        <matplotlib.axes._subplots.AxesSubplot object at 0x130576850>,\n",
       "        <matplotlib.axes._subplots.AxesSubplot object at 0x1305b7090>,\n",
       "        <matplotlib.axes._subplots.AxesSubplot object at 0x1305ed890>,\n",
       "        <matplotlib.axes._subplots.AxesSubplot object at 0x13062d0d0>],\n",
       "       [<matplotlib.axes._subplots.AxesSubplot object at 0x1306658d0>,\n",
       "        <matplotlib.axes._subplots.AxesSubplot object at 0x1306a1110>,\n",
       "        <matplotlib.axes._subplots.AxesSubplot object at 0x1306d7910>,\n",
       "        <matplotlib.axes._subplots.AxesSubplot object at 0x130718150>,\n",
       "        <matplotlib.axes._subplots.AxesSubplot object at 0x13074d950>,\n",
       "        <matplotlib.axes._subplots.AxesSubplot object at 0x13078d190>,\n",
       "        <matplotlib.axes._subplots.AxesSubplot object at 0x1307c3990>],\n",
       "       [<matplotlib.axes._subplots.AxesSubplot object at 0x1308021d0>,\n",
       "        <matplotlib.axes._subplots.AxesSubplot object at 0x1308379d0>,\n",
       "        <matplotlib.axes._subplots.AxesSubplot object at 0x130878210>,\n",
       "        <matplotlib.axes._subplots.AxesSubplot object at 0x1308aca10>,\n",
       "        <matplotlib.axes._subplots.AxesSubplot object at 0x1308ed250>,\n",
       "        <matplotlib.axes._subplots.AxesSubplot object at 0x130922a50>,\n",
       "        <matplotlib.axes._subplots.AxesSubplot object at 0x130962290>],\n",
       "       [<matplotlib.axes._subplots.AxesSubplot object at 0x130997a90>,\n",
       "        <matplotlib.axes._subplots.AxesSubplot object at 0x1309d72d0>,\n",
       "        <matplotlib.axes._subplots.AxesSubplot object at 0x130a0ead0>,\n",
       "        <matplotlib.axes._subplots.AxesSubplot object at 0x130a4e310>,\n",
       "        <matplotlib.axes._subplots.AxesSubplot object at 0x130a84b10>,\n",
       "        <matplotlib.axes._subplots.AxesSubplot object at 0x130ac5350>,\n",
       "        <matplotlib.axes._subplots.AxesSubplot object at 0x130af9b50>],\n",
       "       [<matplotlib.axes._subplots.AxesSubplot object at 0x130b39390>,\n",
       "        <matplotlib.axes._subplots.AxesSubplot object at 0x130b6fb90>,\n",
       "        <matplotlib.axes._subplots.AxesSubplot object at 0x130baf3d0>,\n",
       "        <matplotlib.axes._subplots.AxesSubplot object at 0x130be4050>,\n",
       "        <matplotlib.axes._subplots.AxesSubplot object at 0x130c25410>,\n",
       "        <matplotlib.axes._subplots.AxesSubplot object at 0x130c59090>,\n",
       "        <matplotlib.axes._subplots.AxesSubplot object at 0x130c99450>]],\n",
       "      dtype=object)"
      ]
     },
     "execution_count": 25,
     "metadata": {},
     "output_type": "execute_result"
    },
    {
     "data": {
      "image/png": "[encoded data removed]",
      "text/plain": [
       "<Figure size 864x864 with 49 Axes>"
      ]
     },
     "metadata": {
      "needs_background": "light"
     },
     "output_type": "display_data"
    }
   ],
   "source": [
    "from pandas.plotting import scatter_matrix\n",
    "\n",
    "columns = [\"median_house_value\", \"median_income\", \"total_rooms\", \"housing_median_age\", \"households\", \n",
    "           \"total_bedrooms\", \"population\"]\n",
    "scatter_matrix(housing_train[columns], figsize=(12,12))"
   ]
  },
  {
   "cell_type": "markdown",
   "metadata": {},
   "source": [
    "## Feature Engineering\n",
    "### Experimenting with Attribute Combinations"
   ]
  },
  {
   "cell_type": "code",
   "execution_count": 26,
   "metadata": {},
   "outputs": [],
   "source": [
    "housing_train[\"rooms_per_household\"] = housing_train[\"total_rooms\"] / housing_train[\"households\"]\n",
    "housing_train[\"bedrooms_per_room\"] = housing_train[\"total_bedrooms\"] / housing_train[\"total_rooms\"]\n",
    "housing_train[\"population_per_household\"] = housing_train[\"population\"] / housing_train[\"households\"]"
   ]
  },
  {
   "cell_type": "code",
   "execution_count": 27,
   "metadata": {},
   "outputs": [
    {
     "data": {
      "text/plain": [
       "median_house_value          1.000000\n",
       "median_income               0.686329\n",
       "rooms_per_household         0.167878\n",
       "total_rooms                 0.135308\n",
       "housing_median_age          0.109907\n",
       "households                  0.067123\n",
       "total_bedrooms              0.050856\n",
       "population                 -0.023776\n",
       "population_per_household   -0.034668\n",
       "longitude                  -0.046672\n",
       "latitude                   -0.144167\n",
       "bedrooms_per_room          -0.255034\n",
       "Name: median_house_value, dtype: float64"
      ]
     },
     "execution_count": 27,
     "metadata": {},
     "output_type": "execute_result"
    }
   ],
   "source": [
    "corr_matrix = housing_train.corr()\n",
    "corr_matrix[\"median_house_value\"].sort_values(ascending=False)"
   ]
  },
  {
   "cell_type": "code",
   "execution_count": 28,
   "metadata": {},
   "outputs": [
    {
     "data": {
      "text/plain": [
       "array(['median_house_value', 'median_income', 'rooms_per_household',\n",
       "       'total_rooms', 'housing_median_age'], dtype=object)"
      ]
     },
     "execution_count": 28,
     "metadata": {},
     "output_type": "execute_result"
    }
   ],
   "source": [
    "## Top 5 columns\n",
    "\n",
    "np.array(corr_matrix[\"median_house_value\"].sort_values(ascending=False).index)[:5]"
   ]
  },
  {
   "cell_type": "code",
   "execution_count": 29,
   "metadata": {},
   "outputs": [],
   "source": [
    "housing_labels = housing_train[\"median_house_value\"].copy()\n",
    "housing_train.drop([\"median_house_value\", \"rooms_per_household\", \"bedrooms_per_room\", \"population_per_household\"], axis=1, inplace=True)"
   ]
  },
  {
   "cell_type": "code",
   "execution_count": 30,
   "metadata": {},
   "outputs": [
    {
     "data": {
      "text/html": [
       "<div>\n",
       "<style scoped>\n",
       "    .dataframe tbody tr th:only-of-type {\n",
       "        vertical-align: middle;\n",
       "    }\n",
       "\n",
       "    .dataframe tbody tr th {\n",
       "        vertical-align: top;\n",
       "    }\n",
       "\n",
       "    .dataframe thead th {\n",
       "        text-align: right;\n",
       "    }\n",
       "</style>\n",
       "<table border=\"1\" class=\"dataframe\">\n",
       "  <thead>\n",
       "    <tr style=\"text-align: right;\">\n",
       "      <th></th>\n",
       "      <th>longitude</th>\n",
       "      <th>latitude</th>\n",
       "      <th>housing_median_age</th>\n",
       "      <th>total_rooms</th>\n",
       "      <th>total_bedrooms</th>\n",
       "      <th>population</th>\n",
       "      <th>households</th>\n",
       "      <th>median_income</th>\n",
       "      <th>ocean_proximity</th>\n",
       "    </tr>\n",
       "  </thead>\n",
       "  <tbody>\n",
       "    <tr>\n",
       "      <th>5898</th>\n",
       "      <td>-118.30</td>\n",
       "      <td>34.17</td>\n",
       "      <td>16.0</td>\n",
       "      <td>1353.0</td>\n",
       "      <td>398.0</td>\n",
       "      <td>1211.0</td>\n",
       "      <td>357.0</td>\n",
       "      <td>3.1551</td>\n",
       "      <td>&lt;1H OCEAN</td>\n",
       "    </tr>\n",
       "    <tr>\n",
       "      <th>7012</th>\n",
       "      <td>-118.07</td>\n",
       "      <td>33.96</td>\n",
       "      <td>30.0</td>\n",
       "      <td>928.0</td>\n",
       "      <td>230.0</td>\n",
       "      <td>913.0</td>\n",
       "      <td>214.0</td>\n",
       "      <td>2.6991</td>\n",
       "      <td>&lt;1H OCEAN</td>\n",
       "    </tr>\n",
       "    <tr>\n",
       "      <th>19941</th>\n",
       "      <td>-119.46</td>\n",
       "      <td>36.25</td>\n",
       "      <td>32.0</td>\n",
       "      <td>1702.0</td>\n",
       "      <td>348.0</td>\n",
       "      <td>1016.0</td>\n",
       "      <td>350.0</td>\n",
       "      <td>2.5000</td>\n",
       "      <td>INLAND</td>\n",
       "    </tr>\n",
       "    <tr>\n",
       "      <th>3152</th>\n",
       "      <td>-118.46</td>\n",
       "      <td>35.13</td>\n",
       "      <td>19.0</td>\n",
       "      <td>3109.0</td>\n",
       "      <td>640.0</td>\n",
       "      <td>1457.0</td>\n",
       "      <td>620.0</td>\n",
       "      <td>2.6417</td>\n",
       "      <td>INLAND</td>\n",
       "    </tr>\n",
       "    <tr>\n",
       "      <th>18934</th>\n",
       "      <td>-122.18</td>\n",
       "      <td>38.29</td>\n",
       "      <td>18.0</td>\n",
       "      <td>1953.0</td>\n",
       "      <td>265.0</td>\n",
       "      <td>658.0</td>\n",
       "      <td>270.0</td>\n",
       "      <td>8.0113</td>\n",
       "      <td>NEAR BAY</td>\n",
       "    </tr>\n",
       "  </tbody>\n",
       "</table>\n",
       "</div>"
      ],
      "text/plain": [
       "       longitude  latitude  housing_median_age  total_rooms  total_bedrooms  \\\n",
       "5898     -118.30     34.17                16.0       1353.0           398.0   \n",
       "7012     -118.07     33.96                30.0        928.0           230.0   \n",
       "19941    -119.46     36.25                32.0       1702.0           348.0   \n",
       "3152     -118.46     35.13                19.0       3109.0           640.0   \n",
       "18934    -122.18     38.29                18.0       1953.0           265.0   \n",
       "\n",
       "       population  households  median_income ocean_proximity  \n",
       "5898       1211.0       357.0         3.1551       <1H OCEAN  \n",
       "7012        913.0       214.0         2.6991       <1H OCEAN  \n",
       "19941      1016.0       350.0         2.5000          INLAND  \n",
       "3152       1457.0       620.0         2.6417          INLAND  \n",
       "18934       658.0       270.0         8.0113        NEAR BAY  "
      ]
     },
     "execution_count": 30,
     "metadata": {},
     "output_type": "execute_result"
    }
   ],
   "source": [
    "housing_train.head()"
   ]
  },
  {
   "cell_type": "code",
   "execution_count": 31,
   "metadata": {},
   "outputs": [
    {
     "data": {
      "text/plain": [
       "5898     205000.0\n",
       "7012     147100.0\n",
       "19941     73600.0\n",
       "3152      94900.0\n",
       "18934    393000.0\n",
       "Name: median_house_value, dtype: float64"
      ]
     },
     "execution_count": 31,
     "metadata": {},
     "output_type": "execute_result"
    }
   ],
   "source": [
    "housing_labels.head()"
   ]
  },
  {
   "cell_type": "markdown",
   "metadata": {},
   "source": [
    "### Data Cleaning"
   ]
  },
  {
   "cell_type": "code",
   "execution_count": 32,
   "metadata": {},
   "outputs": [
    {
     "data": {
      "text/plain": [
       "SimpleImputer(add_indicator=False, copy=True, fill_value=None,\n",
       "              missing_values=nan, strategy='median', verbose=0)"
      ]
     },
     "execution_count": 32,
     "metadata": {},
     "output_type": "execute_result"
    }
   ],
   "source": [
    "# Fill in missing data from \"Total Bedrooms\" column with median value\n",
    "\n",
    "from sklearn.impute import SimpleImputer\n",
    "\n",
    "imputer = SimpleImputer(strategy=\"median\")\n",
    "\n",
    "housing_numeric = housing_train.drop(\"ocean_proximity\", axis=1)\n",
    "imputer.fit(housing_numeric)"
   ]
  },
  {
   "cell_type": "code",
   "execution_count": 33,
   "metadata": {},
   "outputs": [
    {
     "data": {
      "text/plain": [
       "(array([-118.5  ,   34.26 ,   29.   , 2129.   ,  436.   , 1169.   ,\n",
       "         410.   ,    3.534]),\n",
       " array([-118.5  ,   34.26 ,   29.   , 2129.   ,  436.   , 1169.   ,\n",
       "         410.   ,    3.534]))"
      ]
     },
     "execution_count": 33,
     "metadata": {},
     "output_type": "execute_result"
    }
   ],
   "source": [
    "imputer.statistics_, housing_numeric.median().values"
   ]
  },
  {
   "cell_type": "code",
   "execution_count": 34,
   "metadata": {},
   "outputs": [
    {
     "data": {
      "text/plain": [
       "array([[-118.3  ,   34.17 ,   16.   , 1353.   ,  398.   , 1211.   ,\n",
       "         357.   ,    3.155],\n",
       "       [-118.07 ,   33.96 ,   30.   ,  928.   ,  230.   ,  913.   ,\n",
       "         214.   ,    2.699],\n",
       "       [-119.46 ,   36.25 ,   32.   , 1702.   ,  348.   , 1016.   ,\n",
       "         350.   ,    2.5  ],\n",
       "       [-118.46 ,   35.13 ,   19.   , 3109.   ,  640.   , 1457.   ,\n",
       "         620.   ,    2.642],\n",
       "       [-122.18 ,   38.29 ,   18.   , 1953.   ,  265.   ,  658.   ,\n",
       "         270.   ,    8.011]])"
      ]
     },
     "execution_count": 34,
     "metadata": {},
     "output_type": "execute_result"
    }
   ],
   "source": [
    "X = imputer.transform(housing_numeric)\n",
    "X[:5]"
   ]
  },
  {
   "cell_type": "code",
   "execution_count": 35,
   "metadata": {},
   "outputs": [
    {
     "data": {
      "text/html": [
       "<div>\n",
       "<style scoped>\n",
       "    .dataframe tbody tr th:only-of-type {\n",
       "        vertical-align: middle;\n",
       "    }\n",
       "\n",
       "    .dataframe tbody tr th {\n",
       "        vertical-align: top;\n",
       "    }\n",
       "\n",
       "    .dataframe thead th {\n",
       "        text-align: right;\n",
       "    }\n",
       "</style>\n",
       "<table border=\"1\" class=\"dataframe\">\n",
       "  <thead>\n",
       "    <tr style=\"text-align: right;\">\n",
       "      <th></th>\n",
       "      <th>longitude</th>\n",
       "      <th>latitude</th>\n",
       "      <th>housing_median_age</th>\n",
       "      <th>total_rooms</th>\n",
       "      <th>total_bedrooms</th>\n",
       "      <th>population</th>\n",
       "      <th>households</th>\n",
       "      <th>median_income</th>\n",
       "    </tr>\n",
       "  </thead>\n",
       "  <tbody>\n",
       "    <tr>\n",
       "      <th>0</th>\n",
       "      <td>-118.30</td>\n",
       "      <td>34.17</td>\n",
       "      <td>16.0</td>\n",
       "      <td>1353.0</td>\n",
       "      <td>398.0</td>\n",
       "      <td>1211.0</td>\n",
       "      <td>357.0</td>\n",
       "      <td>3.1551</td>\n",
       "    </tr>\n",
       "    <tr>\n",
       "      <th>1</th>\n",
       "      <td>-118.07</td>\n",
       "      <td>33.96</td>\n",
       "      <td>30.0</td>\n",
       "      <td>928.0</td>\n",
       "      <td>230.0</td>\n",
       "      <td>913.0</td>\n",
       "      <td>214.0</td>\n",
       "      <td>2.6991</td>\n",
       "    </tr>\n",
       "    <tr>\n",
       "      <th>2</th>\n",
       "      <td>-119.46</td>\n",
       "      <td>36.25</td>\n",
       "      <td>32.0</td>\n",
       "      <td>1702.0</td>\n",
       "      <td>348.0</td>\n",
       "      <td>1016.0</td>\n",
       "      <td>350.0</td>\n",
       "      <td>2.5000</td>\n",
       "    </tr>\n",
       "    <tr>\n",
       "      <th>3</th>\n",
       "      <td>-118.46</td>\n",
       "      <td>35.13</td>\n",
       "      <td>19.0</td>\n",
       "      <td>3109.0</td>\n",
       "      <td>640.0</td>\n",
       "      <td>1457.0</td>\n",
       "      <td>620.0</td>\n",
       "      <td>2.6417</td>\n",
       "    </tr>\n",
       "    <tr>\n",
       "      <th>4</th>\n",
       "      <td>-122.18</td>\n",
       "      <td>38.29</td>\n",
       "      <td>18.0</td>\n",
       "      <td>1953.0</td>\n",
       "      <td>265.0</td>\n",
       "      <td>658.0</td>\n",
       "      <td>270.0</td>\n",
       "      <td>8.0113</td>\n",
       "    </tr>\n",
       "  </tbody>\n",
       "</table>\n",
       "</div>"
      ],
      "text/plain": [
       "   longitude  latitude  housing_median_age  total_rooms  total_bedrooms  \\\n",
       "0    -118.30     34.17                16.0       1353.0           398.0   \n",
       "1    -118.07     33.96                30.0        928.0           230.0   \n",
       "2    -119.46     36.25                32.0       1702.0           348.0   \n",
       "3    -118.46     35.13                19.0       3109.0           640.0   \n",
       "4    -122.18     38.29                18.0       1953.0           265.0   \n",
       "\n",
       "   population  households  median_income  \n",
       "0      1211.0       357.0         3.1551  \n",
       "1       913.0       214.0         2.6991  \n",
       "2      1016.0       350.0         2.5000  \n",
       "3      1457.0       620.0         2.6417  \n",
       "4       658.0       270.0         8.0113  "
      ]
     },
     "execution_count": 35,
     "metadata": {},
     "output_type": "execute_result"
    }
   ],
   "source": [
    "housing_tr = pd.DataFrame(X, columns=housing_numeric.columns)\n",
    "housing_tr.head()"
   ]
  },
  {
   "cell_type": "code",
   "execution_count": 36,
   "metadata": {},
   "outputs": [
    {
     "name": "stdout",
     "output_type": "stream",
     "text": [
      "<class 'pandas.core.frame.DataFrame'>\n",
      "RangeIndex: 16512 entries, 0 to 16511\n",
      "Data columns (total 8 columns):\n",
      "longitude             16512 non-null float64\n",
      "latitude              16512 non-null float64\n",
      "housing_median_age    16512 non-null float64\n",
      "total_rooms           16512 non-null float64\n",
      "total_bedrooms        16512 non-null float64\n",
      "population            16512 non-null float64\n",
      "households            16512 non-null float64\n",
      "median_income         16512 non-null float64\n",
      "dtypes: float64(8)\n",
      "memory usage: 1.0 MB\n"
     ]
    }
   ],
   "source": [
    "housing_tr.info()"
   ]
  },
  {
   "cell_type": "markdown",
   "metadata": {},
   "source": [
    "### Handing Text and Categorical Data"
   ]
  },
  {
   "cell_type": "code",
   "execution_count": 37,
   "metadata": {},
   "outputs": [],
   "source": [
    "from sklearn.preprocessing import OrdinalEncoder \n",
    "\n",
    "ordinal_encoder = OrdinalEncoder()\n",
    "housing_cat = housing_train[[\"ocean_proximity\"]]\n",
    "housing_cat_encoded = ordinal_encoder.fit_transform(housing_cat)"
   ]
  },
  {
   "cell_type": "code",
   "execution_count": 38,
   "metadata": {},
   "outputs": [
    {
     "data": {
      "text/html": [
       "<div>\n",
       "<style scoped>\n",
       "    .dataframe tbody tr th:only-of-type {\n",
       "        vertical-align: middle;\n",
       "    }\n",
       "\n",
       "    .dataframe tbody tr th {\n",
       "        vertical-align: top;\n",
       "    }\n",
       "\n",
       "    .dataframe thead th {\n",
       "        text-align: right;\n",
       "    }\n",
       "</style>\n",
       "<table border=\"1\" class=\"dataframe\">\n",
       "  <thead>\n",
       "    <tr style=\"text-align: right;\">\n",
       "      <th></th>\n",
       "      <th>ocean_proximity</th>\n",
       "    </tr>\n",
       "  </thead>\n",
       "  <tbody>\n",
       "    <tr>\n",
       "      <th>5898</th>\n",
       "      <td>&lt;1H OCEAN</td>\n",
       "    </tr>\n",
       "    <tr>\n",
       "      <th>7012</th>\n",
       "      <td>&lt;1H OCEAN</td>\n",
       "    </tr>\n",
       "    <tr>\n",
       "      <th>19941</th>\n",
       "      <td>INLAND</td>\n",
       "    </tr>\n",
       "    <tr>\n",
       "      <th>3152</th>\n",
       "      <td>INLAND</td>\n",
       "    </tr>\n",
       "    <tr>\n",
       "      <th>18934</th>\n",
       "      <td>NEAR BAY</td>\n",
       "    </tr>\n",
       "  </tbody>\n",
       "</table>\n",
       "</div>"
      ],
      "text/plain": [
       "      ocean_proximity\n",
       "5898        <1H OCEAN\n",
       "7012        <1H OCEAN\n",
       "19941          INLAND\n",
       "3152           INLAND\n",
       "18934        NEAR BAY"
      ]
     },
     "execution_count": 38,
     "metadata": {},
     "output_type": "execute_result"
    }
   ],
   "source": [
    "housing_train[[\"ocean_proximity\"]][:5]"
   ]
  },
  {
   "cell_type": "code",
   "execution_count": 39,
   "metadata": {},
   "outputs": [
    {
     "data": {
      "text/plain": [
       "array([[0.],\n",
       "       [0.],\n",
       "       [1.],\n",
       "       [1.],\n",
       "       [3.]])"
      ]
     },
     "execution_count": 39,
     "metadata": {},
     "output_type": "execute_result"
    }
   ],
   "source": [
    "housing_cat_encoded[:5]"
   ]
  },
  {
   "cell_type": "code",
   "execution_count": 40,
   "metadata": {},
   "outputs": [
    {
     "data": {
      "text/plain": [
       "[array(['<1H OCEAN', 'INLAND', 'ISLAND', 'NEAR BAY', 'NEAR OCEAN'],\n",
       "       dtype=object)]"
      ]
     },
     "execution_count": 40,
     "metadata": {},
     "output_type": "execute_result"
    }
   ],
   "source": [
    "ordinal_encoder.categories_"
   ]
  },
  {
   "cell_type": "code",
   "execution_count": 41,
   "metadata": {},
   "outputs": [
    {
     "data": {
      "text/plain": [
       "<16512x5 sparse matrix of type '<class 'numpy.float64'>'\n",
       "\twith 16512 stored elements in Compressed Sparse Row format>"
      ]
     },
     "execution_count": 41,
     "metadata": {},
     "output_type": "execute_result"
    }
   ],
   "source": [
    "from sklearn.preprocessing import OneHotEncoder  # defaults to sparse Scipy matrix\n",
    "\n",
    "oh_encoder = OneHotEncoder()\n",
    "housing_cat_1hot = oh_encoder.fit_transform(housing_cat)\n",
    "housing_cat_1hot"
   ]
  },
  {
   "cell_type": "code",
   "execution_count": 42,
   "metadata": {},
   "outputs": [
    {
     "data": {
      "text/plain": [
       "array([[1., 0., 0., 0., 0.],\n",
       "       [1., 0., 0., 0., 0.],\n",
       "       [0., 1., 0., 0., 0.],\n",
       "       ...,\n",
       "       [1., 0., 0., 0., 0.],\n",
       "       [1., 0., 0., 0., 0.],\n",
       "       [0., 0., 0., 1., 0.]])"
      ]
     },
     "execution_count": 42,
     "metadata": {},
     "output_type": "execute_result"
    }
   ],
   "source": [
    "housing_cat_1hot.toarray()"
   ]
  },
  {
   "cell_type": "code",
   "execution_count": 43,
   "metadata": {},
   "outputs": [
    {
     "data": {
      "text/plain": [
       "[array(['<1H OCEAN', 'INLAND', 'ISLAND', 'NEAR BAY', 'NEAR OCEAN'],\n",
       "       dtype=object)]"
      ]
     },
     "execution_count": 43,
     "metadata": {},
     "output_type": "execute_result"
    }
   ],
   "source": [
    "oh_encoder.categories_"
   ]
  },
  {
   "cell_type": "code",
   "execution_count": 44,
   "metadata": {},
   "outputs": [
    {
     "data": {
      "text/plain": [
       "array([[1, 0, 0, 0, 0],\n",
       "       [1, 0, 0, 0, 0],\n",
       "       [0, 1, 0, 0, 0],\n",
       "       ...,\n",
       "       [1, 0, 0, 0, 0],\n",
       "       [1, 0, 0, 0, 0],\n",
       "       [0, 0, 0, 1, 0]])"
      ]
     },
     "execution_count": 44,
     "metadata": {},
     "output_type": "execute_result"
    }
   ],
   "source": [
    "from sklearn.preprocessing import LabelBinarizer # defaults to dense Numpy Array\n",
    "\n",
    "lb_encoder = LabelBinarizer()\n",
    "housing_cat_1hot = lb_encoder.fit_transform(housing_cat)\n",
    "housing_cat_1hot"
   ]
  },
  {
   "cell_type": "code",
   "execution_count": 45,
   "metadata": {},
   "outputs": [
    {
     "data": {
      "text/plain": [
       "<16512x5 sparse matrix of type '<class 'numpy.int64'>'\n",
       "\twith 16512 stored elements in Compressed Sparse Row format>"
      ]
     },
     "execution_count": 45,
     "metadata": {},
     "output_type": "execute_result"
    }
   ],
   "source": [
    "lb_encoder = LabelBinarizer(sparse_output=True)\n",
    "housing_cat_1hot = lb_encoder.fit_transform(housing_cat)\n",
    "housing_cat_1hot"
   ]
  },
  {
   "cell_type": "code",
   "execution_count": 46,
   "metadata": {},
   "outputs": [
    {
     "data": {
      "text/html": [
       "<div>\n",
       "<style scoped>\n",
       "    .dataframe tbody tr th:only-of-type {\n",
       "        vertical-align: middle;\n",
       "    }\n",
       "\n",
       "    .dataframe tbody tr th {\n",
       "        vertical-align: top;\n",
       "    }\n",
       "\n",
       "    .dataframe thead th {\n",
       "        text-align: right;\n",
       "    }\n",
       "</style>\n",
       "<table border=\"1\" class=\"dataframe\">\n",
       "  <thead>\n",
       "    <tr style=\"text-align: right;\">\n",
       "      <th></th>\n",
       "      <th>ocean_proximity_&lt;1H OCEAN</th>\n",
       "      <th>ocean_proximity_INLAND</th>\n",
       "      <th>ocean_proximity_ISLAND</th>\n",
       "      <th>ocean_proximity_NEAR BAY</th>\n",
       "      <th>ocean_proximity_NEAR OCEAN</th>\n",
       "    </tr>\n",
       "  </thead>\n",
       "  <tbody>\n",
       "    <tr>\n",
       "      <th>5898</th>\n",
       "      <td>1</td>\n",
       "      <td>0</td>\n",
       "      <td>0</td>\n",
       "      <td>0</td>\n",
       "      <td>0</td>\n",
       "    </tr>\n",
       "    <tr>\n",
       "      <th>7012</th>\n",
       "      <td>1</td>\n",
       "      <td>0</td>\n",
       "      <td>0</td>\n",
       "      <td>0</td>\n",
       "      <td>0</td>\n",
       "    </tr>\n",
       "    <tr>\n",
       "      <th>19941</th>\n",
       "      <td>0</td>\n",
       "      <td>1</td>\n",
       "      <td>0</td>\n",
       "      <td>0</td>\n",
       "      <td>0</td>\n",
       "    </tr>\n",
       "    <tr>\n",
       "      <th>3152</th>\n",
       "      <td>0</td>\n",
       "      <td>1</td>\n",
       "      <td>0</td>\n",
       "      <td>0</td>\n",
       "      <td>0</td>\n",
       "    </tr>\n",
       "    <tr>\n",
       "      <th>18934</th>\n",
       "      <td>0</td>\n",
       "      <td>0</td>\n",
       "      <td>0</td>\n",
       "      <td>1</td>\n",
       "      <td>0</td>\n",
       "    </tr>\n",
       "  </tbody>\n",
       "</table>\n",
       "</div>"
      ],
      "text/plain": [
       "       ocean_proximity_<1H OCEAN  ocean_proximity_INLAND  \\\n",
       "5898                           1                       0   \n",
       "7012                           1                       0   \n",
       "19941                          0                       1   \n",
       "3152                           0                       1   \n",
       "18934                          0                       0   \n",
       "\n",
       "       ocean_proximity_ISLAND  ocean_proximity_NEAR BAY  \\\n",
       "5898                        0                         0   \n",
       "7012                        0                         0   \n",
       "19941                       0                         0   \n",
       "3152                        0                         0   \n",
       "18934                       0                         1   \n",
       "\n",
       "       ocean_proximity_NEAR OCEAN  \n",
       "5898                            0  \n",
       "7012                            0  \n",
       "19941                           0  \n",
       "3152                            0  \n",
       "18934                           0  "
      ]
     },
     "execution_count": 46,
     "metadata": {},
     "output_type": "execute_result"
    }
   ],
   "source": [
    "# Or use Pandas get_dummies()\n",
    "\n",
    "pd.get_dummies(housing_cat)[:5]"
   ]
  },
  {
   "cell_type": "markdown",
   "metadata": {},
   "source": [
    "### Custom Transformer"
   ]
  },
  {
   "cell_type": "code",
   "execution_count": 47,
   "metadata": {},
   "outputs": [],
   "source": [
    "from sklearn.base import BaseEstimator, TransformerMixin\n",
    "\n",
    "rooms_col, bedrooms_col, populations_col, household_col = 3, 4, 5, 6\n",
    "\n",
    "class CombinedAttributeAdder(BaseEstimator, TransformerMixin):\n",
    "    def __init__(self, add_bedrooms_per_room=True):\n",
    "        self.add_bedrooms_per_room = add_bedrooms_per_room\n",
    "    def fit(self, X, y=None):\n",
    "        return self\n",
    "    def transform(self, X, y=None):\n",
    "        rooms_per_household = X[:, rooms_col] / X[:, household_col] \n",
    "        population_per_household = X[:, populations_col] / X[:, household_col]\n",
    "        if self.add_bedrooms_per_room:\n",
    "            bedrooms_per_room = X[:, bedrooms_col] / X[:, rooms_col]\n",
    "            return np.c_[X, rooms_per_household, population_per_household, bedrooms_per_room]\n",
    "        else:\n",
    "            return np.c_[X, rooms_per_household, population_per_household]"
   ]
  },
  {
   "cell_type": "code",
   "execution_count": 48,
   "metadata": {},
   "outputs": [
    {
     "data": {
      "text/html": [
       "<div>\n",
       "<style scoped>\n",
       "    .dataframe tbody tr th:only-of-type {\n",
       "        vertical-align: middle;\n",
       "    }\n",
       "\n",
       "    .dataframe tbody tr th {\n",
       "        vertical-align: top;\n",
       "    }\n",
       "\n",
       "    .dataframe thead th {\n",
       "        text-align: right;\n",
       "    }\n",
       "</style>\n",
       "<table border=\"1\" class=\"dataframe\">\n",
       "  <thead>\n",
       "    <tr style=\"text-align: right;\">\n",
       "      <th></th>\n",
       "      <th>longitude</th>\n",
       "      <th>latitude</th>\n",
       "      <th>housing_median_age</th>\n",
       "      <th>total_rooms</th>\n",
       "      <th>total_bedrooms</th>\n",
       "      <th>population</th>\n",
       "      <th>households</th>\n",
       "      <th>median_income</th>\n",
       "      <th>ocean_proximity</th>\n",
       "    </tr>\n",
       "  </thead>\n",
       "  <tbody>\n",
       "    <tr>\n",
       "      <th>5898</th>\n",
       "      <td>-118.30</td>\n",
       "      <td>34.17</td>\n",
       "      <td>16.0</td>\n",
       "      <td>1353.0</td>\n",
       "      <td>398.0</td>\n",
       "      <td>1211.0</td>\n",
       "      <td>357.0</td>\n",
       "      <td>3.1551</td>\n",
       "      <td>&lt;1H OCEAN</td>\n",
       "    </tr>\n",
       "    <tr>\n",
       "      <th>7012</th>\n",
       "      <td>-118.07</td>\n",
       "      <td>33.96</td>\n",
       "      <td>30.0</td>\n",
       "      <td>928.0</td>\n",
       "      <td>230.0</td>\n",
       "      <td>913.0</td>\n",
       "      <td>214.0</td>\n",
       "      <td>2.6991</td>\n",
       "      <td>&lt;1H OCEAN</td>\n",
       "    </tr>\n",
       "    <tr>\n",
       "      <th>19941</th>\n",
       "      <td>-119.46</td>\n",
       "      <td>36.25</td>\n",
       "      <td>32.0</td>\n",
       "      <td>1702.0</td>\n",
       "      <td>348.0</td>\n",
       "      <td>1016.0</td>\n",
       "      <td>350.0</td>\n",
       "      <td>2.5000</td>\n",
       "      <td>INLAND</td>\n",
       "    </tr>\n",
       "    <tr>\n",
       "      <th>3152</th>\n",
       "      <td>-118.46</td>\n",
       "      <td>35.13</td>\n",
       "      <td>19.0</td>\n",
       "      <td>3109.0</td>\n",
       "      <td>640.0</td>\n",
       "      <td>1457.0</td>\n",
       "      <td>620.0</td>\n",
       "      <td>2.6417</td>\n",
       "      <td>INLAND</td>\n",
       "    </tr>\n",
       "    <tr>\n",
       "      <th>18934</th>\n",
       "      <td>-122.18</td>\n",
       "      <td>38.29</td>\n",
       "      <td>18.0</td>\n",
       "      <td>1953.0</td>\n",
       "      <td>265.0</td>\n",
       "      <td>658.0</td>\n",
       "      <td>270.0</td>\n",
       "      <td>8.0113</td>\n",
       "      <td>NEAR BAY</td>\n",
       "    </tr>\n",
       "  </tbody>\n",
       "</table>\n",
       "</div>"
      ],
      "text/plain": [
       "       longitude  latitude  housing_median_age  total_rooms  total_bedrooms  \\\n",
       "5898     -118.30     34.17                16.0       1353.0           398.0   \n",
       "7012     -118.07     33.96                30.0        928.0           230.0   \n",
       "19941    -119.46     36.25                32.0       1702.0           348.0   \n",
       "3152     -118.46     35.13                19.0       3109.0           640.0   \n",
       "18934    -122.18     38.29                18.0       1953.0           265.0   \n",
       "\n",
       "       population  households  median_income ocean_proximity  \n",
       "5898       1211.0       357.0         3.1551       <1H OCEAN  \n",
       "7012        913.0       214.0         2.6991       <1H OCEAN  \n",
       "19941      1016.0       350.0         2.5000          INLAND  \n",
       "3152       1457.0       620.0         2.6417          INLAND  \n",
       "18934       658.0       270.0         8.0113        NEAR BAY  "
      ]
     },
     "execution_count": 48,
     "metadata": {},
     "output_type": "execute_result"
    }
   ],
   "source": [
    "housing_train.head()"
   ]
  },
  {
   "cell_type": "code",
   "execution_count": 49,
   "metadata": {},
   "outputs": [
    {
     "name": "stdout",
     "output_type": "stream",
     "text": [
      "(16512, 9) (16512, 11)\n"
     ]
    }
   ],
   "source": [
    "## Added the 2 extra columns \n",
    "\n",
    "attr_adder = CombinedAttributeAdder(add_bedrooms_per_room=False)\n",
    "housing_extra_attrib = attr_adder.fit_transform(housing_train.values)\n",
    "print(housing_train.shape, housing_extra_attrib.shape)"
   ]
  },
  {
   "cell_type": "markdown",
   "metadata": {},
   "source": [
    "## Preprocessing: Feature Scaling\n",
    "### Both these columns has wide fluctuations between min and max values"
   ]
  },
  {
   "cell_type": "code",
   "execution_count": 50,
   "metadata": {},
   "outputs": [
    {
     "data": {
      "text/html": [
       "<div>\n",
       "<style scoped>\n",
       "    .dataframe tbody tr th:only-of-type {\n",
       "        vertical-align: middle;\n",
       "    }\n",
       "\n",
       "    .dataframe tbody tr th {\n",
       "        vertical-align: top;\n",
       "    }\n",
       "\n",
       "    .dataframe thead th {\n",
       "        text-align: right;\n",
       "    }\n",
       "</style>\n",
       "<table border=\"1\" class=\"dataframe\">\n",
       "  <thead>\n",
       "    <tr style=\"text-align: right;\">\n",
       "      <th></th>\n",
       "      <th>total_rooms</th>\n",
       "      <th>median_income</th>\n",
       "    </tr>\n",
       "  </thead>\n",
       "  <tbody>\n",
       "    <tr>\n",
       "      <th>count</th>\n",
       "      <td>16512.000000</td>\n",
       "      <td>16512.000000</td>\n",
       "    </tr>\n",
       "    <tr>\n",
       "      <th>mean</th>\n",
       "      <td>2639.180596</td>\n",
       "      <td>3.868058</td>\n",
       "    </tr>\n",
       "    <tr>\n",
       "      <th>std</th>\n",
       "      <td>2181.373266</td>\n",
       "      <td>1.892435</td>\n",
       "    </tr>\n",
       "    <tr>\n",
       "      <th>min</th>\n",
       "      <td>2.000000</td>\n",
       "      <td>0.499900</td>\n",
       "    </tr>\n",
       "    <tr>\n",
       "      <th>25%</th>\n",
       "      <td>1453.000000</td>\n",
       "      <td>2.564850</td>\n",
       "    </tr>\n",
       "    <tr>\n",
       "      <th>50%</th>\n",
       "      <td>2129.000000</td>\n",
       "      <td>3.534300</td>\n",
       "    </tr>\n",
       "    <tr>\n",
       "      <th>75%</th>\n",
       "      <td>3155.000000</td>\n",
       "      <td>4.740575</td>\n",
       "    </tr>\n",
       "    <tr>\n",
       "      <th>max</th>\n",
       "      <td>39320.000000</td>\n",
       "      <td>15.000100</td>\n",
       "    </tr>\n",
       "  </tbody>\n",
       "</table>\n",
       "</div>"
      ],
      "text/plain": [
       "        total_rooms  median_income\n",
       "count  16512.000000   16512.000000\n",
       "mean    2639.180596       3.868058\n",
       "std     2181.373266       1.892435\n",
       "min        2.000000       0.499900\n",
       "25%     1453.000000       2.564850\n",
       "50%     2129.000000       3.534300\n",
       "75%     3155.000000       4.740575\n",
       "max    39320.000000      15.000100"
      ]
     },
     "execution_count": 50,
     "metadata": {},
     "output_type": "execute_result"
    }
   ],
   "source": [
    "housing_train[[\"total_rooms\", \"median_income\"]].describe()"
   ]
  },
  {
   "cell_type": "markdown",
   "metadata": {},
   "source": [
    "### Transformation Pipelines"
   ]
  },
  {
   "cell_type": "code",
   "execution_count": 51,
   "metadata": {},
   "outputs": [],
   "source": [
    "from sklearn.pipeline import Pipeline\n",
    "from sklearn.preprocessing import StandardScaler\n",
    "\n",
    "numeric_pipeline = Pipeline([\n",
    "    (\"imputer\", SimpleImputer(strategy=\"median\")),\n",
    "    (\"attr_adder\", CombinedAttributeAdder()),\n",
    "    (\"std_scaler\", StandardScaler())\n",
    "])\n",
    "\n",
    "housing_numeric_tr = numeric_pipeline.fit_transform(housing_numeric)"
   ]
  },
  {
   "cell_type": "code",
   "execution_count": 52,
   "metadata": {},
   "outputs": [
    {
     "data": {
      "text/plain": [
       "array([[ 0.632, -0.684, -1.002, ..., -0.76 ,  0.062,  1.211],\n",
       "       [ 0.747, -0.783,  0.107, ..., -0.507,  0.204,  0.514],\n",
       "       [ 0.054,  0.29 ,  0.265, ..., -0.262, -0.017, -0.138],\n",
       "       ...,\n",
       "       [ 0.677, -0.689, -0.289, ...,  0.167, -0.058, -0.649],\n",
       "       [-1.182,  0.983, -0.527, ...,  0.651, -0.006, -1.002],\n",
       "       [-1.426,  1.011,  1.85 , ..., -0.719, -0.263,  1.314]])"
      ]
     },
     "execution_count": 52,
     "metadata": {},
     "output_type": "execute_result"
    }
   ],
   "source": [
    "housing_numeric_tr"
   ]
  },
  {
   "cell_type": "code",
   "execution_count": 53,
   "metadata": {},
   "outputs": [],
   "source": [
    "# from sklearn.base import BaseEstimator, TransformerMixin\n",
    "\n",
    "# class DataFrameSelector(BaseEstimator, TransformerMixin):\n",
    "#     def __init__(self, attribute_names):\n",
    "#         self.attribute_names = attribute_names\n",
    "#     def fit(self, X, y=None):\n",
    "#         return self\n",
    "#     def transform(self, X, y=None):\n",
    "#         return X[self.attribute_names].values"
   ]
  },
  {
   "cell_type": "code",
   "execution_count": 54,
   "metadata": {},
   "outputs": [],
   "source": [
    "# from sklearn.pipeline import FeatureUnion\n",
    "from sklearn.compose import ColumnTransformer\n",
    "\n",
    "numeric_attr = list(housing_numeric.columns)\n",
    "cat_attr = [\"ocean_proximity\"]\n",
    "\n",
    "numeric_pipeline = Pipeline([\n",
    "#     (\"selector\", DataFrameSelector(numeric_attr)),\n",
    "    (\"imputer\", SimpleImputer(strategy=\"median\")),\n",
    "    (\"attr_adder\", CombinedAttributeAdder()),\n",
    "    (\"std_scaler\", StandardScaler())    \n",
    "])\n",
    "\n",
    "cat_pipeline = Pipeline([\n",
    "#     (\"selector\", DataFrameSelector(cat_attr)),\n",
    "    (\"oh_encoder\", OneHotEncoder(sparse=False))\n",
    "])\n",
    "\n",
    "# full_pipeline = FeatureUnion(transformer_list=[\n",
    "#     (\"numeric_pipeline\", numeric_pipeline),\n",
    "#     (\"cat_pipeline\", cat_pipeline)\n",
    "# ])\n",
    "\n",
    "full_pipeline = ColumnTransformer([\n",
    "    (\"numeric_pipeline\", numeric_pipeline, numeric_attr),\n",
    "    (\"cat_pipeline\", cat_pipeline, cat_attr)\n",
    "])"
   ]
  },
  {
   "cell_type": "code",
   "execution_count": 55,
   "metadata": {},
   "outputs": [
    {
     "data": {
      "text/plain": [
       "array([[ 0.632, -0.684, -1.002, -0.59 , -0.332, -0.192, -0.374, -0.377,\n",
       "        -0.76 ,  0.062,  1.211,  1.   ,  0.   ,  0.   ,  0.   ,  0.   ],\n",
       "       [ 0.747, -0.783,  0.107, -0.784, -0.735, -0.461, -0.751, -0.618,\n",
       "        -0.507,  0.204,  0.514,  1.   ,  0.   ,  0.   ,  0.   ,  0.   ],\n",
       "       [ 0.054,  0.29 ,  0.265, -0.43 , -0.452, -0.368, -0.393, -0.723,\n",
       "        -0.262, -0.017, -0.138,  0.   ,  1.   ,  0.   ,  0.   ,  0.   ],\n",
       "       [ 0.552, -0.235, -0.764,  0.215,  0.249,  0.031,  0.318, -0.648,\n",
       "        -0.192, -0.107, -0.117,  0.   ,  1.   ,  0.   ,  0.   ,  0.   ],\n",
       "       [-1.302,  1.245, -0.844, -0.315, -0.651, -0.692, -0.603,  2.189,\n",
       "         0.839, -0.093, -1.172,  0.   ,  0.   ,  0.   ,  1.   ,  0.   ]])"
      ]
     },
     "execution_count": 55,
     "metadata": {},
     "output_type": "execute_result"
    }
   ],
   "source": [
    "housing_prepared = full_pipeline.fit_transform(housing_train)\n",
    "housing_prepared[:5]"
   ]
  },
  {
   "cell_type": "code",
   "execution_count": 56,
   "metadata": {},
   "outputs": [
    {
     "data": {
      "text/plain": [
       "(16512, 16)"
      ]
     },
     "execution_count": 56,
     "metadata": {},
     "output_type": "execute_result"
    }
   ],
   "source": [
    "housing_prepared.shape"
   ]
  },
  {
   "cell_type": "code",
   "execution_count": 57,
   "metadata": {},
   "outputs": [
    {
     "data": {
      "text/plain": [
       "LinearRegression(copy_X=True, fit_intercept=True, n_jobs=None, normalize=False)"
      ]
     },
     "execution_count": 57,
     "metadata": {},
     "output_type": "execute_result"
    }
   ],
   "source": [
    "## Training and Evaluating on Training Set\n",
    "\n",
    "from sklearn.linear_model import LinearRegression\n",
    "\n",
    "lin_reg = LinearRegression()\n",
    "lin_reg.fit(housing_prepared, housing_labels)"
   ]
  },
  {
   "cell_type": "code",
   "execution_count": 58,
   "metadata": {},
   "outputs": [
    {
     "name": "stdout",
     "output_type": "stream",
     "text": [
      "68168.52693078159\n"
     ]
    }
   ],
   "source": [
    "from sklearn.metrics import mean_squared_error\n",
    "\n",
    "housing_prediction = lin_reg.predict(housing_prepared)\n",
    "lin_mse = mean_squared_error(housing_prediction, housing_labels)\n",
    "lin_rmse = np.sqrt(lin_mse)\n",
    "print(lin_rmse)"
   ]
  },
  {
   "cell_type": "code",
   "execution_count": 59,
   "metadata": {},
   "outputs": [
    {
     "name": "stdout",
     "output_type": "stream",
     "text": [
      "0.0\n"
     ]
    }
   ],
   "source": [
    "from sklearn.tree import DecisionTreeRegressor\n",
    "\n",
    "tree_reg = DecisionTreeRegressor()\n",
    "tree_reg.fit(housing_prepared, housing_labels)\n",
    "\n",
    "housing_prediction = tree_reg.predict(housing_prepared)\n",
    "tree_mse = mean_squared_error(housing_prediction, housing_labels)\n",
    "tree_rmse = np.sqrt(tree_mse)\n",
    "print(tree_rmse)\n",
    "# RMSE = 0 because model badly overfitting the data without cross validation"
   ]
  },
  {
   "cell_type": "code",
   "execution_count": 60,
   "metadata": {},
   "outputs": [],
   "source": [
    "def display_rmse_scores(model, scores):\n",
    "    rsme_scores = np.sqrt(-scores)\n",
    "    \n",
    "    print(\"Model:\\t\", type(model).__name__)\n",
    "    print(\"Scores:\\t\", rsme_scores)\n",
    "    print(f\"Mean:\\t {rsme_scores.mean():.3f}\")\n",
    "    print(f\"Std Dev: {rsme_scores.std():.3f}\")"
   ]
  },
  {
   "cell_type": "code",
   "execution_count": 61,
   "metadata": {},
   "outputs": [
    {
     "name": "stdout",
     "output_type": "stream",
     "text": [
      "Model:\t DecisionTreeRegressor\n",
      "Scores:\t [70494.767 73127.044 72042.581 77003.972 68789.721 69153.585 69249.089\n",
      " 68603.075 73694.918 68266.098]\n",
      "Mean:\t 71042.485\n",
      "Std Dev: 2715.484\n"
     ]
    }
   ],
   "source": [
    "from sklearn.model_selection import cross_val_score\n",
    "\n",
    "tree_scores = cross_val_score(tree_reg, housing_prepared, housing_labels, scoring=\"neg_mean_squared_error\", cv=10)\n",
    "display_rmse_scores(tree_reg, tree_scores)"
   ]
  },
  {
   "cell_type": "code",
   "execution_count": 62,
   "metadata": {},
   "outputs": [
    {
     "name": "stdout",
     "output_type": "stream",
     "text": [
      "Model:\t LinearRegression\n",
      "Scores:\t [ 69580.41   73150.521 119750.454  70574.793  66339.445  66244.163\n",
      "  65999.781  69607.048  68217.043  64456.934]\n",
      "Mean:\t 73392.059\n",
      "Std Dev: 15646.233\n"
     ]
    }
   ],
   "source": [
    "lin_scores = cross_val_score(lin_reg, housing_prepared, housing_labels, scoring=\"neg_mean_squared_error\", cv=10)\n",
    "display_rmse_scores(lin_reg, lin_scores)"
   ]
  },
  {
   "cell_type": "code",
   "execution_count": 63,
   "metadata": {},
   "outputs": [
    {
     "name": "stdout",
     "output_type": "stream",
     "text": [
      "18658.310296520525\n",
      "Model:\t RandomForestRegressor\n",
      "Scores:\t [51287.248 52934.602 52315.421 54177.474 49279.08  47439.047 49523.224\n",
      " 50691.743 50153.287 47375.039]\n",
      "Mean:\t 50517.617\n",
      "Std Dev: 2123.677\n"
     ]
    }
   ],
   "source": [
    "from sklearn.ensemble import RandomForestRegressor\n",
    "\n",
    "forest_reg = RandomForestRegressor()\n",
    "forest_reg.fit(housing_prepared, housing_labels)\n",
    "\n",
    "housing_prediction = forest_reg.predict(housing_prepared)\n",
    "forest_mse = mean_squared_error(housing_prediction, housing_labels)\n",
    "forest_rmse = np.sqrt(forest_mse)\n",
    "print(forest_rmse)\n",
    "\n",
    "forest_scores = cross_val_score(forest_reg, housing_prepared, housing_labels, scoring=\"neg_mean_squared_error\", cv=10)\n",
    "display_rmse_scores(forest_reg, forest_scores)"
   ]
  },
  {
   "cell_type": "markdown",
   "metadata": {},
   "source": [
    "## Hyperparameter Tuning\n",
    "### Grid Search"
   ]
  },
  {
   "cell_type": "code",
   "execution_count": 64,
   "metadata": {},
   "outputs": [
    {
     "name": "stdout",
     "output_type": "stream",
     "text": [
      "Fitting 5 folds for each of 44 candidates, totalling 220 fits\n"
     ]
    },
    {
     "name": "stderr",
     "output_type": "stream",
     "text": [
      "[Parallel(n_jobs=-1)]: Using backend LokyBackend with 8 concurrent workers.\n",
      "[Parallel(n_jobs=-1)]: Done  25 tasks      | elapsed:    8.9s\n",
      "[Parallel(n_jobs=-1)]: Done 146 tasks      | elapsed:   54.3s\n",
      "[Parallel(n_jobs=-1)]: Done 220 out of 220 | elapsed:  1.6min finished\n"
     ]
    },
    {
     "data": {
      "text/plain": [
       "GridSearchCV(cv=5, error_score=nan,\n",
       "             estimator=RandomForestRegressor(bootstrap=True, ccp_alpha=0.0,\n",
       "                                             criterion='mse', max_depth=None,\n",
       "                                             max_features='auto',\n",
       "                                             max_leaf_nodes=None,\n",
       "                                             max_samples=None,\n",
       "                                             min_impurity_decrease=0.0,\n",
       "                                             min_impurity_split=None,\n",
       "                                             min_samples_leaf=1,\n",
       "                                             min_samples_split=2,\n",
       "                                             min_weight_fraction_leaf=0.0,\n",
       "                                             n_estimators=100, n_jobs=None,\n",
       "                                             oob_score=False, random_state=None,\n",
       "                                             verbose=0, warm_start=False),\n",
       "             iid='deprecated', n_jobs=-1,\n",
       "             param_grid=[{'max_features': [2, 3, 4, 5],\n",
       "                          'n_estimators': [3, 10, 30, 50, 60, 70]},\n",
       "                         {'bootstrap': [False], 'max_features': [2, 3, 4, 5],\n",
       "                          'n_estimators': [3, 8, 17, 50, 65]}],\n",
       "             pre_dispatch='2*n_jobs', refit=True, return_train_score=False,\n",
       "             scoring='neg_mean_squared_error', verbose=2)"
      ]
     },
     "execution_count": 64,
     "metadata": {},
     "output_type": "execute_result"
    }
   ],
   "source": [
    "from sklearn.model_selection import GridSearchCV\n",
    "\n",
    "param_grid = [\n",
    "    {\"n_estimators\": [3, 10, 30, 50, 60, 70], \"max_features\": [2, 3, 4, 5]},\n",
    "    {\"bootstrap\": [False], \"n_estimators\": [3, 8, 17, 50, 65], \"max_features\": [2, 3, 4, 5]}\n",
    "]\n",
    "\n",
    "grid_search = GridSearchCV(forest_reg, param_grid=param_grid, cv=5, scoring=\"neg_mean_squared_error\", verbose=2, n_jobs=-1)\n",
    "grid_search.fit(housing_prepared, housing_labels)"
   ]
  },
  {
   "cell_type": "code",
   "execution_count": 65,
   "metadata": {},
   "outputs": [
    {
     "data": {
      "text/plain": [
       "{'bootstrap': False, 'max_features': 5, 'n_estimators': 65}"
      ]
     },
     "execution_count": 65,
     "metadata": {},
     "output_type": "execute_result"
    }
   ],
   "source": [
    "grid_search.best_params_"
   ]
  },
  {
   "cell_type": "code",
   "execution_count": 66,
   "metadata": {},
   "outputs": [
    {
     "data": {
      "text/plain": [
       "RandomForestRegressor(bootstrap=False, ccp_alpha=0.0, criterion='mse',\n",
       "                      max_depth=None, max_features=5, max_leaf_nodes=None,\n",
       "                      max_samples=None, min_impurity_decrease=0.0,\n",
       "                      min_impurity_split=None, min_samples_leaf=1,\n",
       "                      min_samples_split=2, min_weight_fraction_leaf=0.0,\n",
       "                      n_estimators=65, n_jobs=None, oob_score=False,\n",
       "                      random_state=None, verbose=0, warm_start=False)"
      ]
     },
     "execution_count": 66,
     "metadata": {},
     "output_type": "execute_result"
    }
   ],
   "source": [
    "grid_search.best_estimator_"
   ]
  },
  {
   "cell_type": "code",
   "execution_count": 67,
   "metadata": {},
   "outputs": [
    {
     "data": {
      "text/html": [
       "<div>\n",
       "<style scoped>\n",
       "    .dataframe tbody tr th:only-of-type {\n",
       "        vertical-align: middle;\n",
       "    }\n",
       "\n",
       "    .dataframe tbody tr th {\n",
       "        vertical-align: top;\n",
       "    }\n",
       "\n",
       "    .dataframe thead th {\n",
       "        text-align: right;\n",
       "    }\n",
       "</style>\n",
       "<table border=\"1\" class=\"dataframe\">\n",
       "  <thead>\n",
       "    <tr style=\"text-align: right;\">\n",
       "      <th></th>\n",
       "      <th>mean_fit_time</th>\n",
       "      <th>std_fit_time</th>\n",
       "      <th>mean_score_time</th>\n",
       "      <th>std_score_time</th>\n",
       "      <th>param_max_features</th>\n",
       "      <th>param_n_estimators</th>\n",
       "      <th>param_bootstrap</th>\n",
       "      <th>params</th>\n",
       "      <th>split0_test_score</th>\n",
       "      <th>split1_test_score</th>\n",
       "      <th>split2_test_score</th>\n",
       "      <th>split3_test_score</th>\n",
       "      <th>split4_test_score</th>\n",
       "      <th>mean_test_score</th>\n",
       "      <th>std_test_score</th>\n",
       "      <th>rank_test_score</th>\n",
       "    </tr>\n",
       "  </thead>\n",
       "  <tbody>\n",
       "    <tr>\n",
       "      <th>0</th>\n",
       "      <td>0.161925</td>\n",
       "      <td>0.006858</td>\n",
       "      <td>0.009754</td>\n",
       "      <td>0.002691</td>\n",
       "      <td>2</td>\n",
       "      <td>3</td>\n",
       "      <td>NaN</td>\n",
       "      <td>{'max_features': 2, 'n_estimators': 3}</td>\n",
       "      <td>-4.213921e+09</td>\n",
       "      <td>-4.536393e+09</td>\n",
       "      <td>-3.786049e+09</td>\n",
       "      <td>-4.089389e+09</td>\n",
       "      <td>-4.142678e+09</td>\n",
       "      <td>-4.153686e+09</td>\n",
       "      <td>2.406261e+08</td>\n",
       "      <td>44</td>\n",
       "    </tr>\n",
       "    <tr>\n",
       "      <th>1</th>\n",
       "      <td>0.551524</td>\n",
       "      <td>0.011984</td>\n",
       "      <td>0.024165</td>\n",
       "      <td>0.004394</td>\n",
       "      <td>2</td>\n",
       "      <td>10</td>\n",
       "      <td>NaN</td>\n",
       "      <td>{'max_features': 2, 'n_estimators': 10}</td>\n",
       "      <td>-3.182563e+09</td>\n",
       "      <td>-3.277498e+09</td>\n",
       "      <td>-2.898435e+09</td>\n",
       "      <td>-3.092437e+09</td>\n",
       "      <td>-2.864782e+09</td>\n",
       "      <td>-3.063143e+09</td>\n",
       "      <td>1.597143e+08</td>\n",
       "      <td>36</td>\n",
       "    </tr>\n",
       "    <tr>\n",
       "      <th>2</th>\n",
       "      <td>1.622392</td>\n",
       "      <td>0.009460</td>\n",
       "      <td>0.069658</td>\n",
       "      <td>0.004788</td>\n",
       "      <td>2</td>\n",
       "      <td>30</td>\n",
       "      <td>NaN</td>\n",
       "      <td>{'max_features': 2, 'n_estimators': 30}</td>\n",
       "      <td>-2.858309e+09</td>\n",
       "      <td>-3.095229e+09</td>\n",
       "      <td>-2.653704e+09</td>\n",
       "      <td>-2.779862e+09</td>\n",
       "      <td>-2.602283e+09</td>\n",
       "      <td>-2.797877e+09</td>\n",
       "      <td>1.740332e+08</td>\n",
       "      <td>32</td>\n",
       "    </tr>\n",
       "    <tr>\n",
       "      <th>3</th>\n",
       "      <td>2.721231</td>\n",
       "      <td>0.020754</td>\n",
       "      <td>0.094544</td>\n",
       "      <td>0.003286</td>\n",
       "      <td>2</td>\n",
       "      <td>50</td>\n",
       "      <td>NaN</td>\n",
       "      <td>{'max_features': 2, 'n_estimators': 50}</td>\n",
       "      <td>-2.811260e+09</td>\n",
       "      <td>-3.002286e+09</td>\n",
       "      <td>-2.557571e+09</td>\n",
       "      <td>-2.695903e+09</td>\n",
       "      <td>-2.637620e+09</td>\n",
       "      <td>-2.740928e+09</td>\n",
       "      <td>1.546440e+08</td>\n",
       "      <td>28</td>\n",
       "    </tr>\n",
       "    <tr>\n",
       "      <th>4</th>\n",
       "      <td>3.283150</td>\n",
       "      <td>0.036429</td>\n",
       "      <td>0.128579</td>\n",
       "      <td>0.016245</td>\n",
       "      <td>2</td>\n",
       "      <td>60</td>\n",
       "      <td>NaN</td>\n",
       "      <td>{'max_features': 2, 'n_estimators': 60}</td>\n",
       "      <td>-2.756202e+09</td>\n",
       "      <td>-2.969063e+09</td>\n",
       "      <td>-2.592987e+09</td>\n",
       "      <td>-2.660406e+09</td>\n",
       "      <td>-2.598266e+09</td>\n",
       "      <td>-2.715385e+09</td>\n",
       "      <td>1.398138e+08</td>\n",
       "      <td>27</td>\n",
       "    </tr>\n",
       "  </tbody>\n",
       "</table>\n",
       "</div>"
      ],
      "text/plain": [
       "   mean_fit_time  std_fit_time  mean_score_time  std_score_time  \\\n",
       "0       0.161925      0.006858         0.009754        0.002691   \n",
       "1       0.551524      0.011984         0.024165        0.004394   \n",
       "2       1.622392      0.009460         0.069658        0.004788   \n",
       "3       2.721231      0.020754         0.094544        0.003286   \n",
       "4       3.283150      0.036429         0.128579        0.016245   \n",
       "\n",
       "  param_max_features param_n_estimators param_bootstrap  \\\n",
       "0                  2                  3             NaN   \n",
       "1                  2                 10             NaN   \n",
       "2                  2                 30             NaN   \n",
       "3                  2                 50             NaN   \n",
       "4                  2                 60             NaN   \n",
       "\n",
       "                                    params  split0_test_score  \\\n",
       "0   {'max_features': 2, 'n_estimators': 3}      -4.213921e+09   \n",
       "1  {'max_features': 2, 'n_estimators': 10}      -3.182563e+09   \n",
       "2  {'max_features': 2, 'n_estimators': 30}      -2.858309e+09   \n",
       "3  {'max_features': 2, 'n_estimators': 50}      -2.811260e+09   \n",
       "4  {'max_features': 2, 'n_estimators': 60}      -2.756202e+09   \n",
       "\n",
       "   split1_test_score  split2_test_score  split3_test_score  split4_test_score  \\\n",
       "0      -4.536393e+09      -3.786049e+09      -4.089389e+09      -4.142678e+09   \n",
       "1      -3.277498e+09      -2.898435e+09      -3.092437e+09      -2.864782e+09   \n",
       "2      -3.095229e+09      -2.653704e+09      -2.779862e+09      -2.602283e+09   \n",
       "3      -3.002286e+09      -2.557571e+09      -2.695903e+09      -2.637620e+09   \n",
       "4      -2.969063e+09      -2.592987e+09      -2.660406e+09      -2.598266e+09   \n",
       "\n",
       "   mean_test_score  std_test_score  rank_test_score  \n",
       "0    -4.153686e+09    2.406261e+08               44  \n",
       "1    -3.063143e+09    1.597143e+08               36  \n",
       "2    -2.797877e+09    1.740332e+08               32  \n",
       "3    -2.740928e+09    1.546440e+08               28  \n",
       "4    -2.715385e+09    1.398138e+08               27  "
      ]
     },
     "execution_count": 67,
     "metadata": {},
     "output_type": "execute_result"
    }
   ],
   "source": [
    "cv_results = pd.DataFrame(grid_search.cv_results_)\n",
    "cv_results[:5]"
   ]
  },
  {
   "cell_type": "code",
   "execution_count": 68,
   "metadata": {},
   "outputs": [
    {
     "name": "stdout",
     "output_type": "stream",
     "text": [
      "64449.094499972896 {'max_features': 2, 'n_estimators': 3}\n",
      "55345.667130552174 {'max_features': 2, 'n_estimators': 10}\n",
      "52894.964271711295 {'max_features': 2, 'n_estimators': 30}\n",
      "52353.87043472597 {'max_features': 2, 'n_estimators': 50}\n",
      "52109.35472444617 {'max_features': 2, 'n_estimators': 60}\n",
      "51985.34469829689 {'max_features': 2, 'n_estimators': 70}\n",
      "62402.53640533636 {'max_features': 3, 'n_estimators': 3}\n",
      "53655.742760611414 {'max_features': 3, 'n_estimators': 10}\n",
      "51507.77593946639 {'max_features': 3, 'n_estimators': 30}\n",
      "50778.15120196276 {'max_features': 3, 'n_estimators': 50}\n",
      "50523.52643931502 {'max_features': 3, 'n_estimators': 60}\n",
      "50611.536369812464 {'max_features': 3, 'n_estimators': 70}\n",
      "59395.480761735584 {'max_features': 4, 'n_estimators': 3}\n",
      "52767.242877412195 {'max_features': 4, 'n_estimators': 10}\n",
      "50611.6764392031 {'max_features': 4, 'n_estimators': 30}\n",
      "50137.46646637712 {'max_features': 4, 'n_estimators': 50}\n",
      "49886.19116520737 {'max_features': 4, 'n_estimators': 60}\n",
      "49937.60969813731 {'max_features': 4, 'n_estimators': 70}\n",
      "59650.770826520136 {'max_features': 5, 'n_estimators': 3}\n",
      "52103.363649027604 {'max_features': 5, 'n_estimators': 10}\n",
      "50167.946264388745 {'max_features': 5, 'n_estimators': 30}\n",
      "49620.24479187545 {'max_features': 5, 'n_estimators': 50}\n",
      "49630.89958723479 {'max_features': 5, 'n_estimators': 60}\n",
      "49745.83287736105 {'max_features': 5, 'n_estimators': 70}\n",
      "63069.44373177959 {'bootstrap': False, 'max_features': 2, 'n_estimators': 3}\n",
      "55240.36278927519 {'bootstrap': False, 'max_features': 2, 'n_estimators': 8}\n",
      "52836.42930517217 {'bootstrap': False, 'max_features': 2, 'n_estimators': 17}\n",
      "51109.8042117207 {'bootstrap': False, 'max_features': 2, 'n_estimators': 50}\n",
      "51100.41492225034 {'bootstrap': False, 'max_features': 2, 'n_estimators': 65}\n",
      "59820.93338603814 {'bootstrap': False, 'max_features': 3, 'n_estimators': 3}\n",
      "53057.44492053248 {'bootstrap': False, 'max_features': 3, 'n_estimators': 8}\n",
      "51473.75093216281 {'bootstrap': False, 'max_features': 3, 'n_estimators': 17}\n",
      "49745.281276413225 {'bootstrap': False, 'max_features': 3, 'n_estimators': 50}\n",
      "49682.25462603429 {'bootstrap': False, 'max_features': 3, 'n_estimators': 65}\n",
      "59133.14311106202 {'bootstrap': False, 'max_features': 4, 'n_estimators': 3}\n",
      "52660.057999356955 {'bootstrap': False, 'max_features': 4, 'n_estimators': 8}\n",
      "50543.401548071495 {'bootstrap': False, 'max_features': 4, 'n_estimators': 17}\n",
      "49368.815411766634 {'bootstrap': False, 'max_features': 4, 'n_estimators': 50}\n",
      "48762.826895890394 {'bootstrap': False, 'max_features': 4, 'n_estimators': 65}\n",
      "58301.708000127976 {'bootstrap': False, 'max_features': 5, 'n_estimators': 3}\n",
      "51723.48546236465 {'bootstrap': False, 'max_features': 5, 'n_estimators': 8}\n",
      "50232.481060688944 {'bootstrap': False, 'max_features': 5, 'n_estimators': 17}\n",
      "48896.26204571858 {'bootstrap': False, 'max_features': 5, 'n_estimators': 50}\n",
      "48690.10555667446 {'bootstrap': False, 'max_features': 5, 'n_estimators': 65}\n"
     ]
    }
   ],
   "source": [
    "for mean_test_score, params in zip(cv_results[\"mean_test_score\"], cv_results[\"params\"]):\n",
    "    print(np.sqrt(-mean_test_score), params)"
   ]
  },
  {
   "cell_type": "markdown",
   "metadata": {},
   "source": [
    "### Randomized Search "
   ]
  },
  {
   "cell_type": "code",
   "execution_count": 69,
   "metadata": {},
   "outputs": [
    {
     "name": "stdout",
     "output_type": "stream",
     "text": [
      "Fitting 5 folds for each of 10 candidates, totalling 50 fits\n"
     ]
    },
    {
     "name": "stderr",
     "output_type": "stream",
     "text": [
      "[Parallel(n_jobs=-1)]: Using backend LokyBackend with 8 concurrent workers.\n",
      "[Parallel(n_jobs=-1)]: Done  25 tasks      | elapsed:   16.6s\n",
      "[Parallel(n_jobs=-1)]: Done  50 out of  50 | elapsed:   36.1s finished\n"
     ]
    },
    {
     "data": {
      "text/plain": [
       "RandomizedSearchCV(cv=5, error_score=nan,\n",
       "                   estimator=RandomForestRegressor(bootstrap=True,\n",
       "                                                   ccp_alpha=0.0,\n",
       "                                                   criterion='mse',\n",
       "                                                   max_depth=None,\n",
       "                                                   max_features='auto',\n",
       "                                                   max_leaf_nodes=None,\n",
       "                                                   max_samples=None,\n",
       "                                                   min_impurity_decrease=0.0,\n",
       "                                                   min_impurity_split=None,\n",
       "                                                   min_samples_leaf=1,\n",
       "                                                   min_samples_split=2,\n",
       "                                                   min_weight_fraction_leaf=0.0,\n",
       "                                                   n_estimators=100,\n",
       "                                                   n_jobs=None, oob_score=Fals...\n",
       "                                                   warm_start=False),\n",
       "                   iid='deprecated', n_iter=10, n_jobs=-1,\n",
       "                   param_distributions={'max_features': <scipy.stats._distn_infrastructure.rv_frozen object at 0x1320ec310>,\n",
       "                                        'n_estimators': <scipy.stats._distn_infrastructure.rv_frozen object at 0x1333f4c50>},\n",
       "                   pre_dispatch='2*n_jobs', random_state=None, refit=True,\n",
       "                   return_train_score=False, scoring='neg_mean_squared_error',\n",
       "                   verbose=2)"
      ]
     },
     "execution_count": 69,
     "metadata": {},
     "output_type": "execute_result"
    }
   ],
   "source": [
    "from sklearn.model_selection import RandomizedSearchCV\n",
    "from scipy.stats import randint\n",
    "# randint probability mass function: f(k) = 1 / (high - low)\n",
    "\n",
    "param_dist = {\n",
    "    \"n_estimators\": randint(low=1, high=100),\n",
    "    \"max_features\": randint(low=1, high=8)\n",
    "}\n",
    "\n",
    "rand_search = RandomizedSearchCV(forest_reg, param_distributions=param_dist, cv=5, n_iter=10, scoring=\"neg_mean_squared_error\", verbose=2, n_jobs=-1)\n",
    "rand_search.fit(housing_prepared, housing_labels)"
   ]
  },
  {
   "cell_type": "code",
   "execution_count": 70,
   "metadata": {},
   "outputs": [
    {
     "name": "stdout",
     "output_type": "stream",
     "text": [
      "49972.21374790154 {'max_features': 4, 'n_estimators': 72}\n",
      "50045.540299766835 {'max_features': 6, 'n_estimators': 40}\n",
      "50771.37952404347 {'max_features': 4, 'n_estimators': 23}\n",
      "49627.6775762466 {'max_features': 5, 'n_estimators': 62}\n",
      "50243.003743332425 {'max_features': 4, 'n_estimators': 35}\n",
      "49742.63990361672 {'max_features': 5, 'n_estimators': 63}\n",
      "52072.51030486367 {'max_features': 3, 'n_estimators': 22}\n",
      "49415.55188339372 {'max_features': 6, 'n_estimators': 85}\n",
      "49735.481856891216 {'max_features': 7, 'n_estimators': 58}\n",
      "50584.69369532764 {'max_features': 3, 'n_estimators': 62}\n"
     ]
    }
   ],
   "source": [
    "cv_results = pd.DataFrame(rand_search.cv_results_)\n",
    "\n",
    "for mean_test_score, params in zip(cv_results[\"mean_test_score\"], cv_results[\"params\"]):\n",
    "    print(np.sqrt(-mean_test_score), params)"
   ]
  },
  {
   "cell_type": "code",
   "execution_count": 71,
   "metadata": {},
   "outputs": [
    {
     "data": {
      "text/plain": [
       "{'max_features': 6, 'n_estimators': 85}"
      ]
     },
     "execution_count": 71,
     "metadata": {},
     "output_type": "execute_result"
    }
   ],
   "source": [
    "rand_search.best_params_"
   ]
  },
  {
   "cell_type": "code",
   "execution_count": 72,
   "metadata": {},
   "outputs": [
    {
     "data": {
      "text/plain": [
       "array([0.086, 0.082, 0.04 , 0.019, 0.017, 0.018, 0.017, 0.293, 0.066,\n",
       "       0.106, 0.084, 0.017, 0.143, 0.   , 0.005, 0.008])"
      ]
     },
     "execution_count": 72,
     "metadata": {},
     "output_type": "execute_result"
    }
   ],
   "source": [
    "feature_importances = grid_search.best_estimator_.feature_importances_\n",
    "feature_importances"
   ]
  },
  {
   "cell_type": "code",
   "execution_count": 73,
   "metadata": {},
   "outputs": [
    {
     "data": {
      "text/plain": [
       "['longitude',\n",
       " 'latitude',\n",
       " 'housing_median_age',\n",
       " 'total_rooms',\n",
       " 'total_bedrooms',\n",
       " 'population',\n",
       " 'households',\n",
       " 'median_income',\n",
       " 'rooms_per_household',\n",
       " 'bedrooms_per_room',\n",
       " 'population_per_household',\n",
       " '<1H OCEAN',\n",
       " 'INLAND',\n",
       " 'ISLAND',\n",
       " 'NEAR BAY',\n",
       " 'NEAR OCEAN']"
      ]
     },
     "execution_count": 73,
     "metadata": {},
     "output_type": "execute_result"
    }
   ],
   "source": [
    "## extra attributes \n",
    "extra_attr = [\"rooms_per_household\", \"bedrooms_per_room\", \"population_per_household\"]\n",
    "cat_attr = list(lb_encoder.classes_)\n",
    "col_names = list(housing_numeric.columns) + extra_attr + cat_attr\n",
    "col_names"
   ]
  },
  {
   "cell_type": "code",
   "execution_count": 74,
   "metadata": {},
   "outputs": [
    {
     "data": {
      "text/plain": [
       "[(0.2934529210763414, 'median_income'),\n",
       " (0.1428005336742877, 'INLAND'),\n",
       " (0.10552475928534533, 'bedrooms_per_room'),\n",
       " (0.0861380866189822, 'longitude'),\n",
       " (0.08386631287392164, 'population_per_household'),\n",
       " (0.08206359350654996, 'latitude'),\n",
       " (0.06555319852520908, 'rooms_per_household'),\n",
       " (0.03979559574363543, 'housing_median_age'),\n",
       " (0.018591545640443415, 'total_rooms'),\n",
       " (0.018306780704307805, 'population'),\n",
       " (0.017036271850970182, 'total_bedrooms'),\n",
       " (0.016791223070730037, '<1H OCEAN'),\n",
       " (0.016668846169499034, 'households'),\n",
       " (0.007854284806916316, 'NEAR OCEAN'),\n",
       " (0.0053424908951469645, 'NEAR BAY'),\n",
       " (0.0002135555577134948, 'ISLAND')]"
      ]
     },
     "execution_count": 74,
     "metadata": {},
     "output_type": "execute_result"
    }
   ],
   "source": [
    "sorted(zip(feature_importances, col_names), reverse=True)"
   ]
  },
  {
   "cell_type": "code",
   "execution_count": 75,
   "metadata": {},
   "outputs": [
    {
     "name": "stdout",
     "output_type": "stream",
     "text": [
      "118470.24515084267\n",
      "Model:\t SVR\n",
      "Scores:\t [118261.106 119412.878 117589.304 119363.553 117066.704 118548.113\n",
      " 116295.765 119015.091 120568.464 118876.647]\n",
      "Mean:\t 118499.762\n",
      "Std Dev: 1186.024\n"
     ]
    }
   ],
   "source": [
    "from sklearn.svm import SVR\n",
    "\n",
    "svr_reg = SVR()\n",
    "svr_reg.fit(housing_prepared, housing_labels)\n",
    "housing_prediction = svr_reg.predict(housing_prepared)\n",
    "\n",
    "svr_mse = mean_squared_error(housing_prediction, housing_labels)\n",
    "svr_rmse = np.sqrt(svr_mse)\n",
    "print(svr_rmse)\n",
    "\n",
    "svr_scores = cross_val_score(svr_reg, housing_prepared, housing_labels, scoring=\"neg_mean_squared_error\", cv=10)\n",
    "display_rmse_scores(svr_reg, svr_scores)"
   ]
  },
  {
   "cell_type": "markdown",
   "metadata": {},
   "source": [
    "### Different Distributions for GridSearch and RandomizedSearch "
   ]
  },
  {
   "cell_type": "code",
   "execution_count": 76,
   "metadata": {},
   "outputs": [
    {
     "data": {
      "text/plain": [
       "(array([179., 200., 208., 214., 201., 207., 179., 204., 207., 206., 229.,\n",
       "        202., 181., 203., 196., 200., 206., 196., 198., 209., 197., 178.,\n",
       "        203., 200., 181., 192., 198., 207., 205., 213., 188., 206., 183.,\n",
       "        209., 208., 192., 195., 207., 203., 210., 172., 204., 212., 202.,\n",
       "        197., 189., 199., 210., 218., 197.]),\n",
       " array([2.303, 2.349, 2.395, 2.441, 2.487, 2.533, 2.579, 2.625, 2.671,\n",
       "        2.717, 2.763, 2.809, 2.855, 2.901, 2.947, 2.993, 3.039, 3.085,\n",
       "        3.132, 3.178, 3.224, 3.27 , 3.316, 3.362, 3.408, 3.454, 3.5  ,\n",
       "        3.546, 3.592, 3.638, 3.684, 3.73 , 3.776, 3.822, 3.868, 3.914,\n",
       "        3.96 , 4.006, 4.053, 4.099, 4.145, 4.191, 4.237, 4.283, 4.329,\n",
       "        4.375, 4.421, 4.467, 4.513, 4.559, 4.605]),\n",
       " <a list of 50 Patch objects>)"
      ]
     },
     "execution_count": 76,
     "metadata": {},
     "output_type": "execute_result"
    },
    {
     "data": {
      "image/png": "[encoded data removed]",
      "text/plain": [
       "<Figure size 1296x864 with 6 Axes>"
      ]
     },
     "metadata": {
      "needs_background": "light"
     },
     "output_type": "display_data"
    }
   ],
   "source": [
    "from scipy.stats import geom, expon, reciprocal\n",
    "\n",
    "fig, axes = plt.subplots(nrows=2, ncols=3, figsize=(18, 12))\n",
    "\n",
    "# geometric: f(k) = (1-p)^(k-1) * p for k ≥ 1\n",
    "geom_dist = geom(p=0.4).rvs(size=10000)\n",
    "axes[0, 0].set_title(\"Geom distribution (p=0.4, 10000 samples)\")\n",
    "axes[0, 0].hist(geom_dist, bins=50)\n",
    "axes[1, 0].set_title(\"Log of geom distribution\")\n",
    "axes[1, 0].hist(np.log(geom_dist), bins=50)\n",
    "\n",
    "# exponential: f(x) = exp(-x)\n",
    "# Note that some samples are much larger or smaller than 1.0, but when look at log of the distribution, \n",
    "# can see most values are actually concentrated roughly in range of exp(-2) to exp(+2), which is about 0.1 to 7.4.\n",
    "exp_dist = expon(scale=1.0).rvs(size=10000)\n",
    "axes[0, 1].set_title(\"Expon distribution (scale=1.0, 10000 samples)\")\n",
    "axes[0, 1].hist(exp_dist, bins=50)\n",
    "axes[1, 1].set_title(\"Log of expon distribution\")\n",
    "axes[1, 1].hist(np.log(exp_dist), bins=50)\n",
    "\n",
    "# reciprocal continuous variable: f(x, a, b) = 1 / (x log(b/a))\n",
    "# The distribution we used for C looks quite different: \n",
    "# the scale of the samples is picked from a uniform distribution within a given range, which is why the graph, \n",
    "# which represents the log of the samples, looks roughly constant. \n",
    "# This distribution is useful when you don't have a clue of what the target scale is.\n",
    "recip_dist = reciprocal.rvs(a=10, b=100, size=10000)\n",
    "axes[0, 2].set_title(\"Reciprocal distribution (a=10, b=100, 10000 samples)\")\n",
    "axes[0, 2].hist(recip_dist, bins=50)\n",
    "axes[1, 2].set_title(\"Log of reciprocal distribution\")\n",
    "axes[1, 2].hist(np.log(recip_dist), bins=50)"
   ]
  },
  {
   "cell_type": "code",
   "execution_count": 77,
   "metadata": {},
   "outputs": [
    {
     "name": "stdout",
     "output_type": "stream",
     "text": [
      "Fitting 10 folds for each of 12 candidates, totalling 120 fits\n"
     ]
    },
    {
     "name": "stderr",
     "output_type": "stream",
     "text": [
      "[Parallel(n_jobs=-1)]: Using backend LokyBackend with 8 concurrent workers.\n",
      "/Users/asd/.virtualenvs/ds/lib/python3.7/site-packages/joblib/externals/loky/process_executor.py:706: UserWarning: A worker stopped while some jobs were given to the executor. This can be caused by a too short worker timeout or by a memory leak.\n",
      "  \"timeout or by a memory leak.\", UserWarning\n",
      "[Parallel(n_jobs=-1)]: Done  25 tasks      | elapsed:  2.2min\n",
      "[Parallel(n_jobs=-1)]: Done 120 out of 120 | elapsed:  9.5min finished\n"
     ]
    },
    {
     "data": {
      "text/plain": [
       "GridSearchCV(cv=10, error_score=nan,\n",
       "             estimator=SVR(C=1.0, cache_size=200, coef0=0.0, degree=3,\n",
       "                           epsilon=0.1, gamma='scale', kernel='rbf',\n",
       "                           max_iter=-1, shrinking=True, tol=0.001,\n",
       "                           verbose=False),\n",
       "             iid='deprecated', n_jobs=-1,\n",
       "             param_grid=[{'C': [10, 100, 1000], 'kernel': ['linear']},\n",
       "                         {'C': [1, 10, 100], 'gamma': [0.01, 0.1, 1],\n",
       "                          'kernel': ['rbf']}],\n",
       "             pre_dispatch='2*n_jobs', refit=True, return_train_score=False,\n",
       "             scoring='neg_mean_squared_error', verbose=2)"
      ]
     },
     "execution_count": 77,
     "metadata": {},
     "output_type": "execute_result"
    }
   ],
   "source": [
    "from scipy.stats import reciprocal, expon\n",
    "\n",
    "param_grid = [\n",
    "    {'kernel': [\"linear\"], 'C': [10, 100, 1000]},\n",
    "    {'kernel': [\"rbf\"], 'C': [1, 10, 100], \"gamma\": [0.01, 0.1, 1]},\n",
    "]\n",
    "\n",
    "gridsearch_cv = GridSearchCV(svr_reg, param_grid=param_grid, cv=10, scoring=\"neg_mean_squared_error\", verbose=2, n_jobs=-1)\n",
    "gridsearch_cv.fit(housing_prepared, housing_labels)"
   ]
  },
  {
   "cell_type": "code",
   "execution_count": 84,
   "metadata": {},
   "outputs": [
    {
     "name": "stdout",
     "output_type": "stream",
     "text": [
      "74196.41914383095\n",
      "1\n",
      "SVR(C=100, cache_size=200, coef0=0.0, degree=3, epsilon=0.1, gamma='scale',\n",
      "    kernel='linear', max_iter=-1, shrinking=True, tol=0.001, verbose=False)\n",
      "{'C': 100, 'kernel': 'linear'}\n"
     ]
    }
   ],
   "source": [
    "print(np.sqrt(-gridsearch_cv.best_score_))\n",
    "print(gridsearch_cv.best_index_)\n",
    "print(gridsearch_cv.best_estimator_)\n",
    "print(gridsearch_cv.best_params_)"
   ]
  },
  {
   "cell_type": "code",
   "execution_count": 81,
   "metadata": {},
   "outputs": [
    {
     "name": "stdout",
     "output_type": "stream",
     "text": [
      "83132.68070770575 {'C': 10, 'kernel': 'linear'}\n",
      "74196.41914383095 {'C': 100, 'kernel': 'linear'}\n",
      "87367.58964039957 {'C': 1000, 'kernel': 'linear'}\n",
      "118701.72037811522 {'C': 1, 'gamma': 0.01, 'kernel': 'rbf'}\n",
      "118511.80765677933 {'C': 1, 'gamma': 0.1, 'kernel': 'rbf'}\n",
      "118789.30783606767 {'C': 1, 'gamma': 1, 'kernel': 'rbf'}\n",
      "117612.62257668922 {'C': 10, 'gamma': 0.01, 'kernel': 'rbf'}\n",
      "115694.94375564114 {'C': 10, 'gamma': 0.1, 'kernel': 'rbf'}\n",
      "118453.7764812083 {'C': 10, 'gamma': 1, 'kernel': 'rbf'}\n",
      "107873.85192096606 {'C': 100, 'gamma': 0.01, 'kernel': 'rbf'}\n",
      "96956.99739909469 {'C': 100, 'gamma': 0.1, 'kernel': 'rbf'}\n",
      "115470.80605137367 {'C': 100, 'gamma': 1, 'kernel': 'rbf'}\n"
     ]
    }
   ],
   "source": [
    "cv_results = pd.DataFrame(gridsearch_cv.cv_results_)\n",
    "\n",
    "for mean_test_score, params in zip(cv_results[\"mean_test_score\"], cv_results[\"params\"]):\n",
    "    print(np.sqrt(-mean_test_score), params)"
   ]
  },
  {
   "cell_type": "code",
   "execution_count": 82,
   "metadata": {},
   "outputs": [
    {
     "name": "stdout",
     "output_type": "stream",
     "text": [
      "Fitting 3 folds for each of 4 candidates, totalling 12 fits\n"
     ]
    },
    {
     "name": "stderr",
     "output_type": "stream",
     "text": [
      "[Parallel(n_jobs=-1)]: Using backend LokyBackend with 8 concurrent workers.\n",
      "[Parallel(n_jobs=-1)]: Done   4 out of  12 | elapsed:   23.0s remaining:   46.0s\n",
      "[Parallel(n_jobs=-1)]: Done  12 out of  12 | elapsed:   38.0s finished\n"
     ]
    },
    {
     "data": {
      "text/plain": [
       "RandomizedSearchCV(cv=3, error_score=nan,\n",
       "                   estimator=SVR(C=1.0, cache_size=200, coef0=0.0, degree=3,\n",
       "                                 epsilon=0.1, gamma='scale', kernel='rbf',\n",
       "                                 max_iter=-1, shrinking=True, tol=0.001,\n",
       "                                 verbose=False),\n",
       "                   iid='deprecated', n_iter=4, n_jobs=-1,\n",
       "                   param_distributions=[{'C': <scipy.stats._distn_infrastructure.rv_frozen object at 0x155933990>,\n",
       "                                         'gamma': <scipy.stats._distn_infrastructure.rv_frozen object at 0x122ae8710>,\n",
       "                                         'kernel': ['linear', 'rbf']}],\n",
       "                   pre_dispatch='2*n_jobs', random_state=None, refit=True,\n",
       "                   return_train_score=False, scoring='neg_mean_squared_error',\n",
       "                   verbose=2)"
      ]
     },
     "execution_count": 82,
     "metadata": {},
     "output_type": "execute_result"
    }
   ],
   "source": [
    "param_dist = [\n",
    "    { \"kernel\": [\"linear\", \"rbf\"], \"C\": reciprocal(2, 20000), \"gamma\": expon(scale=1.0) }\n",
    "]\n",
    "\n",
    "randsearch = RandomizedSearchCV(svr_reg, param_distributions=param_dist, cv=3, n_iter=4, scoring=\"neg_mean_squared_error\", verbose=2, n_jobs=-1)\n",
    "randsearch.fit(housing_prepared, housing_labels)"
   ]
  },
  {
   "cell_type": "code",
   "execution_count": 85,
   "metadata": {},
   "outputs": [
    {
     "name": "stdout",
     "output_type": "stream",
     "text": [
      "74997.94699629834\n",
      "2\n",
      "SVR(C=233.13425474930324, cache_size=200, coef0=0.0, degree=3, epsilon=0.1,\n",
      "    gamma=0.824742034971546, kernel='linear', max_iter=-1, shrinking=True,\n",
      "    tol=0.001, verbose=False)\n",
      "{'C': 233.13425474930324, 'gamma': 0.824742034971546, 'kernel': 'linear'}\n"
     ]
    }
   ],
   "source": [
    "print(np.sqrt(-randsearch.best_score_))\n",
    "print(randsearch.best_index_)\n",
    "print(randsearch.best_estimator_)\n",
    "print(randsearch.best_params_)"
   ]
  },
  {
   "cell_type": "code",
   "execution_count": 86,
   "metadata": {},
   "outputs": [
    {
     "name": "stdout",
     "output_type": "stream",
     "text": [
      "94570.01870686552 {'C': 11638.999889517752, 'gamma': 1.7397778716350778, 'kernel': 'linear'}\n",
      "107874.17418220102 {'C': 73.6552323526257, 'gamma': 0.20650556364647854, 'kernel': 'rbf'}\n",
      "74997.94699629834 {'C': 233.13425474930324, 'gamma': 0.824742034971546, 'kernel': 'linear'}\n",
      "94869.87510424554 {'C': 15484.797313480292, 'gamma': 0.43696311968130763, 'kernel': 'linear'}\n"
     ]
    }
   ],
   "source": [
    "cv_results = pd.DataFrame(randsearch.cv_results_)\n",
    "\n",
    "for mean_test_score, params in zip(cv_results[\"mean_test_score\"], cv_results[\"params\"]):\n",
    "    print(np.sqrt(-mean_test_score), params)"
   ]
  },
  {
   "cell_type": "code",
   "execution_count": 87,
   "metadata": {},
   "outputs": [
    {
     "name": "stdout",
     "output_type": "stream",
     "text": [
      "Fitting 5 folds for each of 10 candidates, totalling 50 fits\n"
     ]
    },
    {
     "name": "stderr",
     "output_type": "stream",
     "text": [
      "[Parallel(n_jobs=-1)]: Using backend LokyBackend with 8 concurrent workers.\n",
      "[Parallel(n_jobs=-1)]: Done  25 tasks      | elapsed:   36.8s\n",
      "[Parallel(n_jobs=-1)]: Done  50 out of  50 | elapsed:  1.2min finished\n"
     ]
    },
    {
     "data": {
      "text/plain": [
       "RandomizedSearchCV(cv=5, error_score=nan,\n",
       "                   estimator=RandomForestRegressor(bootstrap=True,\n",
       "                                                   ccp_alpha=0.0,\n",
       "                                                   criterion='mse',\n",
       "                                                   max_depth=None,\n",
       "                                                   max_features='auto',\n",
       "                                                   max_leaf_nodes=None,\n",
       "                                                   max_samples=None,\n",
       "                                                   min_impurity_decrease=0.0,\n",
       "                                                   min_impurity_split=None,\n",
       "                                                   min_samples_leaf=1,\n",
       "                                                   min_samples_split=2,\n",
       "                                                   min_weight_fraction_leaf=0.0,\n",
       "                                                   n_estimators=100,\n",
       "                                                   n_jobs=None, oob_score=Fals...\n",
       "                                                   warm_start=False),\n",
       "                   iid='deprecated', n_iter=10, n_jobs=-1,\n",
       "                   param_distributions={'max_features': <scipy.stats._distn_infrastructure.rv_frozen object at 0x154b01810>,\n",
       "                                        'n_estimators': <scipy.stats._distn_infrastructure.rv_frozen object at 0x154b01ed0>},\n",
       "                   pre_dispatch='2*n_jobs', random_state=None, refit=True,\n",
       "                   return_train_score=False, scoring='neg_mean_squared_error',\n",
       "                   verbose=2)"
      ]
     },
     "execution_count": 87,
     "metadata": {},
     "output_type": "execute_result"
    }
   ],
   "source": [
    "param_dist = { \"n_estimators\": randint(low=1, high=200), \"max_features\": randint(low=1, high=8) }\n",
    "\n",
    "forest_reg = RandomForestRegressor()\n",
    "rf_random_search = RandomizedSearchCV(forest_reg, param_distributions=param_dist, cv=5, n_iter=10, scoring=\"neg_mean_squared_error\", verbose=2, n_jobs=-1)\n",
    "rf_random_search.fit(housing_prepared, housing_labels)"
   ]
  },
  {
   "cell_type": "code",
   "execution_count": 88,
   "metadata": {},
   "outputs": [
    {
     "name": "stdout",
     "output_type": "stream",
     "text": [
      "Feature Importances: [0.075 0.071 0.042 0.017 0.017 0.018 0.016 0.315 0.069 0.109 0.078 0.011\n",
      " 0.154 0.    0.004 0.005]\n",
      "Best Parameters: {'max_features': 6, 'n_estimators': 164}\n"
     ]
    }
   ],
   "source": [
    "feature_importances = rf_random_search.best_estimator_.feature_importances_\n",
    "print(f\"Feature Importances: {feature_importances}\")\n",
    "print(f\"Best Parameters: {rf_random_search.best_params_}\")"
   ]
  },
  {
   "cell_type": "code",
   "execution_count": 89,
   "metadata": {},
   "outputs": [
    {
     "data": {
      "text/plain": [
       "array([ 7, 12,  9, 10,  0])"
      ]
     },
     "execution_count": 89,
     "metadata": {},
     "output_type": "execute_result"
    }
   ],
   "source": [
    "# numpy.argsort(a, axis=-1, kind=None, order=None)[source]\n",
    "# Returns the indices that would sort an array.\n",
    "# Perform an indirect sort along the given axis using the algorithm specified by the kind keyword. \n",
    "# It returns an array of indices of the same shape as a that index data along the given axis in sorted order.\n",
    "\n",
    "top_k = 5\n",
    "indices = np.argsort(rf_random_search.best_estimator_.feature_importances_)[::-1][:top_k]\n",
    "indices"
   ]
  },
  {
   "cell_type": "code",
   "execution_count": 90,
   "metadata": {},
   "outputs": [
    {
     "data": {
      "text/plain": [
       "array([ 0,  7,  9, 10, 12])"
      ]
     },
     "execution_count": 90,
     "metadata": {},
     "output_type": "execute_result"
    }
   ],
   "source": [
    "sorted_indices = np.sort(indices)\n",
    "sorted_indices"
   ]
  },
  {
   "cell_type": "code",
   "execution_count": 91,
   "metadata": {},
   "outputs": [
    {
     "data": {
      "text/plain": [
       "array(['longitude', 'median_income', 'bedrooms_per_room',\n",
       "       'population_per_household', 'INLAND'], dtype='<U24')"
      ]
     },
     "execution_count": 91,
     "metadata": {},
     "output_type": "execute_result"
    }
   ],
   "source": [
    "np.array(col_names)[sorted_indices]"
   ]
  },
  {
   "cell_type": "code",
   "execution_count": 92,
   "metadata": {},
   "outputs": [
    {
     "data": {
      "text/plain": [
       "[(0.3151440465815248, 'median_income'),\n",
       " (0.1537584969132213, 'INLAND'),\n",
       " (0.10925748206954286, 'bedrooms_per_room'),\n",
       " (0.07783626188615567, 'population_per_household'),\n",
       " (0.07479090859205088, 'longitude')]"
      ]
     },
     "execution_count": 92,
     "metadata": {},
     "output_type": "execute_result"
    }
   ],
   "source": [
    "sorted(zip(feature_importances, col_names), reverse=True)[:top_k]"
   ]
  },
  {
   "cell_type": "code",
   "execution_count": 93,
   "metadata": {},
   "outputs": [],
   "source": [
    "## ASSUMPTION: Model being used has feature_importances attribute \n",
    "\n",
    "from sklearn.base import BaseEstimator, TransformerMixin\n",
    "\n",
    "def indices_of_top_k(arr, k):\n",
    "    return np.sort(np.argsort(arr)[::-1][:k])\n",
    "\n",
    "class SelectTopAttributes(BaseEstimator, TransformerMixin):\n",
    "    def __init__(self, feature_importances, top_k):\n",
    "        self.feature_importances = feature_importances\n",
    "        self.top_k = top_k\n",
    "    def fit(self, X, y=None):\n",
    "        self.indices = indices_of_top_k(self.feature_importances, self.top_k)\n",
    "        return self\n",
    "    def transform(self, X, y=None):\n",
    "        return X[:, self.indices]\n",
    "    \n",
    "preparation_and_feature_select_pipeline = Pipeline([\n",
    "    (\"preparation\", full_pipeline),\n",
    "    (\"feature_select\", SelectTopAttributes(feature_importances, top_k))\n",
    "])"
   ]
  },
  {
   "cell_type": "code",
   "execution_count": 94,
   "metadata": {},
   "outputs": [
    {
     "data": {
      "text/plain": [
       "array([[ 0.632, -0.377,  0.062,  1.211,  0.   ],\n",
       "       [ 0.747, -0.618,  0.204,  0.514,  0.   ],\n",
       "       [ 0.054, -0.723, -0.017, -0.138,  1.   ],\n",
       "       [ 0.552, -0.648, -0.107, -0.117,  1.   ],\n",
       "       [-1.302,  2.189, -0.093, -1.172,  0.   ]])"
      ]
     },
     "execution_count": 94,
     "metadata": {},
     "output_type": "execute_result"
    }
   ],
   "source": [
    "housing_prepared_top_k_features = preparation_and_feature_select_pipeline.fit_transform(housing_train)\n",
    "housing_prepared_top_k_features[:5]"
   ]
  },
  {
   "cell_type": "code",
   "execution_count": 95,
   "metadata": {},
   "outputs": [
    {
     "data": {
      "text/plain": [
       "array([[ 0.632, -0.377,  0.062,  1.211,  0.   ],\n",
       "       [ 0.747, -0.618,  0.204,  0.514,  0.   ],\n",
       "       [ 0.054, -0.723, -0.017, -0.138,  1.   ],\n",
       "       [ 0.552, -0.648, -0.107, -0.117,  1.   ],\n",
       "       [-1.302,  2.189, -0.093, -1.172,  0.   ]])"
      ]
     },
     "execution_count": 95,
     "metadata": {},
     "output_type": "execute_result"
    }
   ],
   "source": [
    "# just to compare original data against the pipeline-generated version\n",
    "housing_prepared[0:5, sorted_indices]"
   ]
  },
  {
   "cell_type": "code",
   "execution_count": 96,
   "metadata": {},
   "outputs": [
    {
     "data": {
      "text/plain": [
       "Pipeline(memory=None,\n",
       "         steps=[('preparation',\n",
       "                 ColumnTransformer(n_jobs=None, remainder='drop',\n",
       "                                   sparse_threshold=0.3,\n",
       "                                   transformer_weights=None,\n",
       "                                   transformers=[('numeric_pipeline',\n",
       "                                                  Pipeline(memory=None,\n",
       "                                                           steps=[('imputer',\n",
       "                                                                   SimpleImputer(add_indicator=False,\n",
       "                                                                                 copy=True,\n",
       "                                                                                 fill_value=None,\n",
       "                                                                                 missing_values=nan,\n",
       "                                                                                 strategy='median',\n",
       "                                                                                 verbose=0)),\n",
       "                                                                  ('attr_adder',\n",
       "                                                                   CombinedAttributeA...\n",
       "                ('feature_select',\n",
       "                 SelectTopAttributes(feature_importances=array([0.075, 0.071, 0.042, 0.017, 0.017, 0.018, 0.016, 0.315, 0.069,\n",
       "       0.109, 0.078, 0.011, 0.154, 0.   , 0.004, 0.005]),\n",
       "                                     top_k=5)),\n",
       "                ('svr_predict',\n",
       "                 SVR(C=233.13425474930324, cache_size=200, coef0=0.0, degree=3,\n",
       "                     epsilon=0.1, gamma=0.824742034971546, kernel='linear',\n",
       "                     max_iter=-1, shrinking=True, tol=0.001, verbose=False))],\n",
       "         verbose=False)"
      ]
     },
     "execution_count": 96,
     "metadata": {},
     "output_type": "execute_result"
    }
   ],
   "source": [
    "prepare_select_predict_pipeline = Pipeline([\n",
    "    (\"preparation\", full_pipeline),\n",
    "    (\"feature_select\", SelectTopAttributes(feature_importances, top_k)),\n",
    "    (\"svr_predict\", SVR(**randsearch.best_params_))\n",
    "])\n",
    "\n",
    "prepare_select_predict_pipeline.fit(housing_train, housing_labels)"
   ]
  },
  {
   "cell_type": "code",
   "execution_count": 97,
   "metadata": {},
   "outputs": [
    {
     "name": "stdout",
     "output_type": "stream",
     "text": [
      "[193504.273 156636.861  89812.02   96684.318]\n",
      "[205000.0, 147100.0, 73600.0, 94900.0]\n"
     ]
    }
   ],
   "source": [
    "some_data = housing_train[:4]\n",
    "some_labels = housing_labels[:4]\n",
    "some_predict = prepare_select_predict_pipeline.predict(some_data)\n",
    "print(some_predict, list(some_labels), sep=\"\\n\")"
   ]
  },
  {
   "cell_type": "code",
   "execution_count": 98,
   "metadata": {},
   "outputs": [
    {
     "name": "stdout",
     "output_type": "stream",
     "text": [
      "Fitting 5 folds for each of 27 candidates, totalling 135 fits\n"
     ]
    },
    {
     "name": "stderr",
     "output_type": "stream",
     "text": [
      "[Parallel(n_jobs=-1)]: Using backend LokyBackend with 8 concurrent workers.\n",
      "[Parallel(n_jobs=-1)]: Done  25 tasks      | elapsed:  1.4min\n",
      "[Parallel(n_jobs=-1)]: Done 135 out of 135 | elapsed:  6.5min finished\n"
     ]
    },
    {
     "data": {
      "text/plain": [
       "GridSearchCV(cv=5, error_score=nan,\n",
       "             estimator=Pipeline(memory=None,\n",
       "                                steps=[('preparation',\n",
       "                                        ColumnTransformer(n_jobs=None,\n",
       "                                                          remainder='drop',\n",
       "                                                          sparse_threshold=0.3,\n",
       "                                                          transformer_weights=None,\n",
       "                                                          transformers=[('numeric_pipeline',\n",
       "                                                                         Pipeline(memory=None,\n",
       "                                                                                  steps=[('imputer',\n",
       "                                                                                          SimpleImputer(add_indicator=False,\n",
       "                                                                                                        copy=True,\n",
       "                                                                                                        fill_value=None,\n",
       "                                                                                                        missing_values=nan,\n",
       "                                                                                                        strategy='median',...\n",
       "                                            kernel='linear', max_iter=-1,\n",
       "                                            shrinking=True, tol=0.001,\n",
       "                                            verbose=False))],\n",
       "                                verbose=False),\n",
       "             iid='deprecated', n_jobs=-1,\n",
       "             param_grid=[{'feature_select__top_k': [7, 8, 9, 10, 11, 12, 13, 14,\n",
       "                                                    15],\n",
       "                          'preparation__numeric_pipeline__imputer__strategy': ['mean',\n",
       "                                                                               'median',\n",
       "                                                                               'most_frequent']}],\n",
       "             pre_dispatch='2*n_jobs', refit=True, return_train_score=False,\n",
       "             scoring='neg_mean_squared_error', verbose=2)"
      ]
     },
     "execution_count": 98,
     "metadata": {},
     "output_type": "execute_result"
    }
   ],
   "source": [
    "param_grid = [\n",
    "    { \"preparation__numeric_pipeline__imputer__strategy\": [\"mean\", \"median\", \"most_frequent\"], \"feature_select__top_k\": list(range(7, len(feature_importances))) }\n",
    "]\n",
    "\n",
    "gridsearch_prep = GridSearchCV(prepare_select_predict_pipeline, param_grid=param_grid, cv=5, scoring=\"neg_mean_squared_error\", verbose=2, n_jobs=-1)\n",
    "gridsearch_prep.fit(housing_train, housing_labels)"
   ]
  },
  {
   "cell_type": "code",
   "execution_count": 99,
   "metadata": {},
   "outputs": [
    {
     "data": {
      "text/plain": [
       "{'feature_select__top_k': 15,\n",
       " 'preparation__numeric_pipeline__imputer__strategy': 'mean'}"
      ]
     },
     "execution_count": 99,
     "metadata": {},
     "output_type": "execute_result"
    }
   ],
   "source": [
    "gridsearch_prep.best_params_"
   ]
  }
 ],
 "metadata": {
  "kernelspec": {
   "display_name": "Python 3",
   "language": "python",
   "name": "python3"
  },
  "language_info": {
   "codemirror_mode": {
    "name": "ipython",
    "version": 3
   },
   "file_extension": ".py",
   "mimetype": "text/x-python",
   "name": "python",
   "nbconvert_exporter": "python",
   "pygments_lexer": "ipython3",
   "version": "3.7.6"
  }
 },
 "nbformat": 4,
 "nbformat_minor": 2
}
