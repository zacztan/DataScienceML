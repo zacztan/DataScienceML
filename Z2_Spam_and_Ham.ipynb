{
 "cells": [
  {
   "cell_type": "markdown",
   "metadata": {},
   "source": [
    "# Spam and Ham"
   ]
  },
  {
   "cell_type": "code",
   "execution_count": 1,
   "metadata": {},
   "outputs": [
    {
     "data": {
      "text/html": [
       "<style>.container { width:100%; }</style>"
      ],
      "text/plain": [
       "<IPython.core.display.HTML object>"
      ]
     },
     "metadata": {},
     "output_type": "display_data"
    }
   ],
   "source": [
    "from pathlib import Path\n",
    "import pandas as pd\n",
    "import numpy as np\n",
    "import matplotlib.pyplot as plt\n",
    "import requests\n",
    "import tarfile\n",
    "\n",
    "from IPython.core.display import display, HTML\n",
    "display(HTML(\"<style>.container { width:100%; }</style>\"))\n",
    "np.set_printoptions(precision=3, suppress=True)"
   ]
  },
  {
   "cell_type": "code",
   "execution_count": 2,
   "metadata": {},
   "outputs": [],
   "source": [
    "DOWNLOAD_ROOT = \"http://spamassassin.apache.org/old/publiccorpus/\"\n",
    "HAM_URL = DOWNLOAD_ROOT + \"20030228_easy_ham.tar.bz2\"\n",
    "SPAM_URL = DOWNLOAD_ROOT + \"20030228_spam.tar.bz2\"\n",
    "EMAILS_PATH = Path.cwd() / \"datasets\" / \"spamham\"\n",
    "\n",
    "def fetch_spam_data(ham_url=HAM_URL, spam_url=SPAM_URL, emails_path=EMAILS_PATH):\n",
    "    emails_path.mkdir(parents=True, exist_ok=True)\n",
    "    for filename, url in [(\"ham.tar.bz2\", ham_url), (\"spam.tar.bz2\", spam_url)]:\n",
    "        resp = requests.get(url)\n",
    "        local_file = emails_path / filename\n",
    "        with open(local_file, \"wb\") as f:\n",
    "            f.write(resp.content)\n",
    "        file_bz2 = tarfile.open(local_file)\n",
    "        file_bz2.extractall(path=emails_path)\n",
    "        file_bz2.close()"
   ]
  },
  {
   "cell_type": "code",
   "execution_count": 3,
   "metadata": {},
   "outputs": [],
   "source": [
    "fetch_spam_data()"
   ]
  },
  {
   "cell_type": "code",
   "execution_count": 4,
   "metadata": {},
   "outputs": [
    {
     "name": "stdout",
     "output_type": "stream",
     "text": [
      "2500 500\n"
     ]
    }
   ],
   "source": [
    "ham_dir = EMAILS_PATH / \"easy_ham\"\n",
    "spam_dir = EMAILS_PATH / \"spam\"\n",
    "    \n",
    "ham_files = list(ham_dir.glob(\"*.*\")) \n",
    "spam_files = list(spam_dir.glob(\"*.*\"))\n",
    "\n",
    "ham_num = len(ham_files)\n",
    "spam_num = len(spam_files)\n",
    "\n",
    "print(ham_num, spam_num)"
   ]
  },
  {
   "cell_type": "code",
   "execution_count": 5,
   "metadata": {},
   "outputs": [],
   "source": [
    "from email.parser import BytesParser\n",
    "from email.policy import default\n",
    "\n",
    "def load_email(filename):\n",
    "    with open(filename, \"rb\") as f:\n",
    "        return BytesParser(policy=default).parse(f)"
   ]
  },
  {
   "cell_type": "code",
   "execution_count": 6,
   "metadata": {},
   "outputs": [],
   "source": [
    "ham_emails = [load_email(file) for file in ham_files]\n",
    "spam_emails = [load_email(file) for file in spam_files]"
   ]
  },
  {
   "cell_type": "code",
   "execution_count": 7,
   "metadata": {},
   "outputs": [
    {
     "name": "stdout",
     "output_type": "stream",
     "text": [
      "ham\n",
      "[13, 61, 62, 66, 69, 165, 367, 385, 386, 387, 388, 577, 703, 774, 848, 882, 943, 944, 946, 947, 948, 951, 960, 962, 963, 965, 967, 974, 985, 987, 992, 996, 1002, 1028, 1044, 1052, 1064, 1066, 1068, 1093, 1095, 1126, 1128, 1129, 1130, 1131, 1135, 1136, 1147, 1148, 1151, 1158, 1161, 1167, 1169, 1180, 1182, 1215, 1224, 1232, 1293, 1313, 1335, 1352, 1357, 1391, 1396, 1402, 1405, 1424, 1435, 1445, 1447, 1467, 1468, 1472, 1473, 1475, 1490, 1508, 1541, 1557, 1560, 1564, 1566, 1569, 1570, 1590, 1604, 1608, 1609, 1622]\n",
      "{<class 'list'>, <class 'str'>}\n",
      "spam\n",
      "[21, 22, 23, 37, 38, 73, 77, 79, 81, 86, 89, 91, 94, 95, 104, 114, 119, 123, 125, 127, 134, 136, 149, 179, 185, 186, 190, 191, 193, 197, 202, 205, 206, 207, 208, 213, 215, 218, 222, 231, 236, 237, 238, 240, 247, 251, 255, 259, 260, 261, 263, 264, 268, 270, 272, 274, 282, 286, 290, 292, 297, 298, 302, 306, 307, 308, 310, 314, 329, 331, 332, 333, 334, 337, 338, 339, 340, 343, 351, 364, 365, 369, 383, 388, 389, 398, 402, 420, 434, 435, 439, 453, 467, 471, 474, 478, 485, 497]\n",
      "{<class 'list'>, <class 'str'>}\n"
     ]
    }
   ],
   "source": [
    "ham_idx = list()\n",
    "spam_idx = list()\n",
    "ham_set = set()\n",
    "spam_set = set()\n",
    "\n",
    "for idx, email in enumerate(ham_emails):\n",
    "    ham_set.add(type(email.get_payload()))\n",
    "    if isinstance(email.get_payload(), list):\n",
    "        ham_idx.append(idx)\n",
    "\n",
    "for idx, email in enumerate(spam_emails):\n",
    "    spam_set.add(type(email.get_payload()))\n",
    "    if isinstance(email.get_payload(), list):\n",
    "        spam_idx.append(idx)\n",
    "    \n",
    "print(\"ham\", ham_idx, ham_set, \"spam\", spam_idx, spam_set, sep=\"\\n\")"
   ]
  },
  {
   "cell_type": "markdown",
   "metadata": {},
   "source": [
    "### HAM - Regular String"
   ]
  },
  {
   "cell_type": "code",
   "execution_count": 8,
   "metadata": {},
   "outputs": [
    {
     "name": "stdout",
     "output_type": "stream",
     "text": [
      "<class 'email.message.EmailMessage'>\n",
      "text/plain\n",
      "Date:        Wed, 21 Aug 2002 10:54:46 -0500\n",
      "    From:        Chris Garrigues <cwg-dated-1030377287.06fa6d@DeepEddy.Com>\n",
      "    Message-ID:  <1029945287.4797.TMDA@deepeddy.vircio.com>\n",
      "\n",
      "\n",
      "  | I can't reproduce this error.\n",
      "\n",
      "For me it is very repeatable... (like every time, without fail).\n",
      "\n",
      "This is the debug log of the pick happening ...\n",
      "\n",
      "18:19:03 Pick_It {exec pick +inbox -list -lbrace -lbrace -subject ftp -rbrace -rbrace} {4852-4852 -sequence mercury}\n",
      "18:19:03 exec pick +inbox -list -lbrace -lbrace -subject ftp -rbrace -rbrace 4852-4852 -sequence mercury\n",
      "18:19:04 Ftoc_PickMsgs {{1 hit}}\n",
      "18:19:04 Marking 1 hits\n",
      "18:19:04 tkerror: syntax error in expression \"int ...\n",
      "\n",
      "Note, if I run the pick command by hand ...\n",
      "\n",
      "delta$ pick +inbox -list -lbrace -lbrace -subject ftp -rbrace -rbrace  4852-4852 -sequence mercury\n",
      "1 hit\n",
      "\n",
      "That's where the \"1 hit\" comes from (obviously).  The version of nmh I'm\n",
      "using is ...\n",
      "\n",
      "delta$ pick -version\n",
      "pick -- nmh-1.0.4 [compiled on fuchsia.cs.mu.OZ.AU at Sun Mar 17 14:55:56 ICT 2002]\n",
      "\n",
      "And the relevant part of my .mh_profile ...\n",
      "\n",
      "delta$ mhparam pick\n",
      "-seq sel -list\n",
      "\n",
      "\n",
      "Since the pick command works, the sequence (actually, both of them, the\n",
      "one that's explicit on the command line, from the search popup, and the\n",
      "one that comes from .mh_profile) do get created.\n",
      "\n",
      "kre\n",
      "\n",
      "ps: this is still using the version of the code form a day ago, I haven't\n",
      "been able to reach the cvs repository today (local routing issue I think).\n",
      "\n",
      "\n",
      "\n",
      "_______________________________________________\n",
      "Exmh-workers mailing list\n",
      "Exmh-workers@redhat.com\n",
      "https://listman.redhat.com/mailman/listinfo/exmh-workers\n",
      "    Date:        Wed, 21 Aug 2002 10:54:46 -0500\n",
      "    From:        Chris Garrigues <cwg-dated-1030377287.06fa6d@DeepEddy.Com>\n",
      "    Message-ID:  <1029945287.4797.TMDA@deepeddy.vircio.com>\n",
      "\n",
      "\n",
      "  | I can't reproduce this error.\n",
      "\n",
      "For me it is very repeatable... (like every time, without fail).\n",
      "\n",
      "This is the debug log of the pick happening ...\n",
      "\n",
      "18:19:03 Pick_It {exec pick +inbox -list -lbrace -lbrace -subject ftp -rbrace -rbrace} {4852-4852 -sequence mercury}\n",
      "18:19:03 exec pick +inbox -list -lbrace -lbrace -subject ftp -rbrace -rbrace 4852-4852 -sequence mercury\n",
      "18:19:04 Ftoc_PickMsgs {{1 hit}}\n",
      "18:19:04 Marking 1 hits\n",
      "18:19:04 tkerror: syntax error in expression \"int ...\n",
      "\n",
      "Note, if I run the pick command by hand ...\n",
      "\n",
      "delta$ pick +inbox -list -lbrace -lbrace -subject ftp -rbrace -rbrace  4852-4852 -sequence mercury\n",
      "1 hit\n",
      "\n",
      "That's where the \"1 hit\" comes from (obviously).  The version of nmh I'm\n",
      "using is ...\n",
      "\n",
      "delta$ pick -version\n",
      "pick -- nmh-1.0.4 [compiled on fuchsia.cs.mu.OZ.AU at Sun Mar 17 14:55:56 ICT 2002]\n",
      "\n",
      "And the relevant part of my .mh_profile ...\n",
      "\n",
      "delta$ mhparam pick\n",
      "-seq sel -list\n",
      "\n",
      "\n",
      "Since the pick command works, the sequence (actually, both of them, the\n",
      "one that's explicit on the command line, from the search popup, and the\n",
      "one that comes from .mh_profile) do get created.\n",
      "\n",
      "kre\n",
      "\n",
      "ps: this is still using the version of the code form a day ago, I haven't\n",
      "been able to reach the cvs repository today (local routing issue I think).\n",
      "\n",
      "\n",
      "\n",
      "_______________________________________________\n",
      "Exmh-workers mailing list\n",
      "Exmh-workers@redhat.com\n",
      "https://listman.redhat.com/mailman/listinfo/exmh-workers\n",
      "\n",
      "\n"
     ]
    }
   ],
   "source": [
    "print(type(ham_emails[0]))\n",
    "print(ham_emails[0].get_content_type())\n",
    "print(ham_emails[0].get_content().strip())\n",
    "print(ham_emails[0].get_payload())"
   ]
  },
  {
   "cell_type": "markdown",
   "metadata": {},
   "source": [
    "### HAM - Multipart"
   ]
  },
  {
   "cell_type": "code",
   "execution_count": 9,
   "metadata": {},
   "outputs": [
    {
     "name": "stdout",
     "output_type": "stream",
     "text": [
      "multipart/signed\n",
      "[<email.message.EmailMessage object at 0x10adbee50>, <email.message.EmailMessage object at 0x117ca4bd0>]\n",
      "> From:  Chris Garrigues <cwg-exmh@DeepEddy.Com>\n",
      "> Date:  Wed, 21 Aug 2002 10:40:39 -0500\n",
      ">\n",
      "> > From:  Chris Garrigues <cwg-exmh@DeepEddy.Com>\n",
      "> > Date:  Wed, 21 Aug 2002 10:17:45 -0500\n",
      "> >\n",
      "> > Ouch...I'll get right on it.\n",
      "> > \n",
      "> > > From:  Robert Elz <kre@munnari.OZ.AU>\n",
      "> > > Date:  Wed, 21 Aug 2002 19:30:01 +0700\n",
      "> > >\n",
      "> > > Any chance of having that lengthen instead?   I like all my exmh stuff\n",
      "> > > in nice columns (fits the display better).   That is, I use the detache\n",
      "> d\n",
      "> > > folder list, one column.   The main exmh window takes up full screen,\n",
      "> > > top to bottom, but less than half the width, etc...\n",
      "> \n",
      "> I thought about that.  The first order approximation would be to just add \n",
      "> using pack .... -side top instead of pack ... -side left, however, since their \n",
      "> each a different width, it would look funny.\n",
      "\n",
      "I've done this.  It's not as pretty as I think it should be, but it works.  \n",
      "I'm going to leave the cosmetic issues to others.  When I update the \n",
      "documentation, I'll add this to the exmh.TODO file.\n",
      "\n",
      "I'm leaving for a 2 1/2 week vacation in a week, so this is the last new \n",
      "functionality I'm going to add for a while.  Also, I now have pretty much \n",
      "everything in there that I want for my own use, so I'm probably pretty much \n",
      "done.  I'll work on bug fixes and documentation before my vacation, and \n",
      "hopefully do nothing more afterwards.\n",
      "\n",
      "Chris\n",
      "\n",
      "-- \n",
      "Chris Garrigues                 http://www.DeepEddy.Com/~cwg/\n",
      "virCIO                          http://www.virCIO.Com\n",
      "716 Congress, Suite 200\n",
      "Austin, TX  78701\t\t+1 512 374 0500\n",
      "\n",
      "  World War III:  The Wrong-Doers Vs. the Evil-Doers.\n",
      "\n",
      "\n",
      "\n",
      "\n",
      "-----BEGIN PGP SIGNATURE-----\n",
      "Version: GnuPG v1.0.6 (GNU/Linux)\n",
      "Comment: Exmh version 2.2_20000822 06/23/2000\n",
      "\n",
      "iD8DBQE9ZQJ/K9b4h5R0IUIRAiPuAJwL4mUus5whLNQZC8MsDlGpEdKNrACcDfZH\n",
      "PcGgN9frLIM+C5Z3vagi2wE=\n",
      "=qJoJ\n",
      "-----END PGP SIGNATURE-----\n",
      "\n"
     ]
    }
   ],
   "source": [
    "print(ham_emails[13].get_content_type())\n",
    "multipart_email = ham_emails[13].get_payload()\n",
    "print(multipart_email)\n",
    "\n",
    "for part in multipart_email:\n",
    "    print(part.get_payload())"
   ]
  },
  {
   "cell_type": "markdown",
   "metadata": {},
   "source": [
    "### SPAM - Regular String"
   ]
  },
  {
   "cell_type": "code",
   "execution_count": 10,
   "metadata": {},
   "outputs": [
    {
     "name": "stdout",
     "output_type": "stream",
     "text": [
      "text/html\n",
      "Dear ricardo1 ,\n",
      "\n",
      "<html>\n",
      "<body>\n",
      "<center>\n",
      "<b><font color = \"red\" size = \"+2.5\">COST EFFECTIVE Direct Email Advertising</font><br>\n",
      "<font color = \"blue\" size = \"+2\">Promote Your Business For As Low As </font><br>\n",
      "<font color = \"red\" size = \"+2\">$50</font> <font color = \"blue\" size = \"+2\">Per \n",
      "<font color = \"red\" size = \"+2\">1 Million</font>\n",
      "<font color = \"blue\" size = \"+2\"> Email Addresses</font></font><p>\n",
      "<b><font color = \"#44C300\" size =\"+2\">MAXIMIZE YOUR MARKETING DOLLARS!<p></FONT></b>\n",
      "<font size = \"+2\">Complete and fax this information form to 309-407-7378.<Br>\n",
      "A Consultant will contact you to discuss your marketing needs.<br>\n",
      "</font></font>\n",
      "<Table><tr><td>\n",
      "<font size = \"+1\"><b>NAME:___________________________________________________________________<br>\n",
      "<font size = \"+1\"><b>COMPANY:_______________________________________________________________<br>\n",
      "<font size = \"+1\"><b>ADDRESS:________________________________________________________________<br>\n",
      "<font size = \"+1\"><b>CITY:_____________________________________________________________________<br>\n",
      "<font size = \"+1\"><b>STATE:___________________________________________________________________<br>\n",
      "<font size = \"+1\"><b>PHONE:___________________________________________________________________<br>\n",
      "<font size = \"+1\"><b>E-MAIL:__________________________________________________________________<br>\n",
      "<font size = \"+1\"><b>WEBSITE: <font size = \"-1\" color = \"red\">(Not Required)</font>_______________________________________________________<br>\n",
      "___________________________________________________________________________<br>\n",
      "___________________________________________________________________________<br>\n",
      "<b><font color = \"red\">*</font>COMMENTS: <font color = \"Red\" size = \"-1\">(Provide details, pricing, etc. on the products and services you wish to market)</font><br>\n",
      "___________________________________________________________________________<br>\n",
      "___________________________________________________________________________<br>\n",
      "___________________________________________________________________________<br>\n",
      "___________________________________________________________________________<br>\n",
      "</td></tr>\n",
      "</table>\n",
      "</center>\n",
      "</body>\n",
      "</html>\n",
      "\n",
      " [247(^(PO1:KJ)_8J7BJK9^\":}H&*TG0BK5NKIYs5]\n",
      "Dear ricardo1 ,\n",
      "\n",
      "<html>\n",
      "<body>\n",
      "<center>\n",
      "<b><font color = \"red\" size = \"+2.5\">COST EFFECTIVE Direct Email Advertising</font><br>\n",
      "<font color = \"blue\" size = \"+2\">Promote Your Business For As Low As </font><br>\n",
      "<font color = \"red\" size = \"+2\">$50</font> <font color = \"blue\" size = \"+2\">Per \n",
      "<font color = \"red\" size = \"+2\">1 Million</font>\n",
      "<font color = \"blue\" size = \"+2\"> Email Addresses</font></font><p>\n",
      "<b><font color = \"#44C300\" size =\"+2\">MAXIMIZE YOUR MARKETING DOLLARS!<p></FONT></b>\n",
      "<font size = \"+2\">Complete and fax this information form to 309-407-7378.<Br>\n",
      "A Consultant will contact you to discuss your marketing needs.<br>\n",
      "</font></font>\n",
      "<Table><tr><td>\n",
      "<font size = \"+1\"><b>NAME:___________________________________________________________________<br>\n",
      "<font size = \"+1\"><b>COMPANY:_______________________________________________________________<br>\n",
      "<font size = \"+1\"><b>ADDRESS:________________________________________________________________<br>\n",
      "<font size = \"+1\"><b>CITY:_____________________________________________________________________<br>\n",
      "<font size = \"+1\"><b>STATE:___________________________________________________________________<br>\n",
      "<font size = \"+1\"><b>PHONE:___________________________________________________________________<br>\n",
      "<font size = \"+1\"><b>E-MAIL:__________________________________________________________________<br>\n",
      "<font size = \"+1\"><b>WEBSITE: <font size = \"-1\" color = \"red\">(Not Required)</font>_______________________________________________________<br>\n",
      "___________________________________________________________________________<br>\n",
      "___________________________________________________________________________<br>\n",
      "<b><font color = \"red\">*</font>COMMENTS: <font color = \"Red\" size = \"-1\">(Provide details, pricing, etc. on the products and services you wish to market)</font><br>\n",
      "___________________________________________________________________________<br>\n",
      "___________________________________________________________________________<br>\n",
      "___________________________________________________________________________<br>\n",
      "___________________________________________________________________________<br>\n",
      "</td></tr>\n",
      "</table>\n",
      "</center>\n",
      "</body>\n",
      "</html>\n",
      "\n",
      " [247(^(PO1:KJ)_8J7BJK9^\":}H&*TG0BK5NKIYs5]\n",
      "\n",
      "\n",
      "\n"
     ]
    }
   ],
   "source": [
    "print(spam_emails[9].get_content_type())\n",
    "print(spam_emails[9].get_content().strip())\n",
    "print(spam_emails[9].get_payload())"
   ]
  },
  {
   "cell_type": "markdown",
   "metadata": {},
   "source": [
    "### SPAM - Multipart"
   ]
  },
  {
   "cell_type": "code",
   "execution_count": 11,
   "metadata": {},
   "outputs": [
    {
     "name": "stdout",
     "output_type": "stream",
     "text": [
      "multipart/mixed\n",
      "[<email.message.EmailMessage object at 0x11b47a650>, <email.message.EmailMessage object at 0x11b474a10>]\n",
      "URGENT PRIVATE & EXTREMELY CONFIDENTIAL\n",
      "\n",
      "\n",
      "\n",
      "Dear =2C\n",
      "\n",
      "With profound interest and in utmost confidence=2C I am\n",
      "soliciting your immediate assistance or co-operation\n",
      "as to enable us round up an opportunity within my\n",
      "capability as a result of the death of one of our\n",
      "contractor =28Beneficiary=29=2E You should not be surprised\n",
      "as to how I got your contact=2C you were highly\n",
      "recommended to me with the believe that you are\n",
      "competent=2C reliable=2C Trustworthy and confident=2E\n",
      "\n",
      "I am  Dr=2E Bello Ahmed=2C Chief Auditor=2C Special Project\n",
      "and Foreign Contract Regularization and Disbursement=2C\n",
      "in the Office of the Auditor General of the Federation\n",
      "of Federal Republic of Nigeria=2E We work in hand with\n",
      "the Senate Committee on Foreign Contract Payment=2E Our\n",
      "duty is to ensure that all contractors are paid their\n",
      "contract sum in due time=2E\n",
      "\n",
      "This last payment quarter=2C a total of 30 contractors\n",
      "were short listed for payment and about 25 of them\n",
      "have been paid remaining about 5 =28Five=29=2C information\n",
      "reaching this office indicates that one among the\n",
      "remaining has been reported dead=2E His name is Mr=2E\n",
      "Gerrand Schwartz from Sweden=2C he died in the last Air\n",
      "France Concorde plane crash=2E Meanwhile he finished the\n",
      "execution of his contract December 19th 1999=2E But\n",
      "since his death=2C nobody has come forward to put a\n",
      "claim to his contract fund which is about\n",
      "US$15=2C500=2C000=2E00 Million =28fifteen Million Five\n",
      "Hundred Thousand U=2ES Dollars=29 that is why I need your\n",
      "immediate assistance to expedite the transfer of the\n",
      "contract amount=2E\n",
      "\n",
      "With my position as a Director  in the Department of\n",
      "Contract Regularisation and Disbursement=2C I will\n",
      "regularize all the necessary documents and present\n",
      "your company as the bona-fide beneficiary of this fund\n",
      "in as   much as you respond within 48 hours for\n",
      "respect of this important message=2E Your unreserved\n",
      "cooperation in this business is just what we require\n",
      "for a successful and hitch =96 free transaction=2E\n",
      "Necessary measures to ensure a risk =96 free and fool\n",
      "proof transaction and confidentiality has been taken=2E\n",
      "\n",
      "\n",
      "Kindly signify your interest by replying via my\n",
      "personal e =96mail address above=2E Upon receipt of your\n",
      "positive reply we shall discuss on =281=29 Basic Program\n",
      "for Operation =282=29 Financial Status as to ascertain\n",
      "your capability=2E  Upon completion of this transaction\n",
      "I have decided to give you 30% of the total sum=2C 60%\n",
      "of the fund which is our share will be used for\n",
      "investment in your company or in any other company of\n",
      "our choice=2E While10% has been mapped out to take care\n",
      "of any minor expenses incurred=2E Take note that this\n",
      "project will last for only 21 working days=2E\n",
      "\n",
      "I expect your response in time =28within 48 hours=29 as\n",
      "time is of great essence in this transaction=2E\n",
      "\n",
      "God Bless and Kind Regards=2C\n",
      "\n",
      "Dr=2E Bello Ahmed\n",
      "\n",
      "\n",
      "\n",
      "\n"
     ]
    }
   ],
   "source": [
    "print(spam_emails[21].get_content_type())\n",
    "\n",
    "multipart_email = spam_emails[21].get_payload()\n",
    "print(multipart_email)\n",
    "\n",
    "for part in multipart_email:\n",
    "    print(part.get_payload())"
   ]
  },
  {
   "cell_type": "markdown",
   "metadata": {},
   "source": [
    "### Functions to Get Email Structures and Count Them"
   ]
  },
  {
   "cell_type": "code",
   "execution_count": 12,
   "metadata": {},
   "outputs": [],
   "source": [
    "def get_email_structure(email):\n",
    "    if isinstance(email, str):\n",
    "        return email\n",
    "    payload = email.get_payload()\n",
    "    if isinstance(payload, list):\n",
    "        return f\"multipart({(', '.join(get_email_structure(sub_email) for sub_email in payload))})\"\n",
    "    else:\n",
    "        return email.get_content_type()"
   ]
  },
  {
   "cell_type": "code",
   "execution_count": 13,
   "metadata": {},
   "outputs": [],
   "source": [
    "def count_email_structures(emails):\n",
    "    structures = dict({})\n",
    "    for email in emails:\n",
    "        structure = get_email_structure(email)\n",
    "        if structure in structures.keys():\n",
    "            structures[structure] += 1\n",
    "        else:\n",
    "            structures[structure] = 1\n",
    "    return structures"
   ]
  },
  {
   "cell_type": "code",
   "execution_count": 14,
   "metadata": {},
   "outputs": [
    {
     "name": "stdout",
     "output_type": "stream",
     "text": [
      "HAM\n",
      "text/plain 2408\n",
      "multipart(text/plain, application/pgp-signature) 66\n",
      "multipart(text/plain, text/html) 8\n",
      "multipart(text/plain, text/plain) 4\n",
      "multipart(text/plain) 3\n",
      "multipart(text/plain, application/octet-stream) 2\n",
      "multipart(text/plain, video/mng) 1\n",
      "multipart(text/plain, text/enriched) 1\n",
      "multipart(text/plain, multipart(text/plain, text/plain), text/rfc822-headers) 1\n",
      "multipart(text/plain, multipart(text/plain, text/plain), multipart(multipart(text/plain, application/x-pkcs7-signature))) 1\n",
      "multipart(text/plain, multipart(text/plain)) 1\n",
      "multipart(text/plain, application/x-pkcs7-signature) 1\n",
      "multipart(text/plain, application/x-java-applet) 1\n",
      "multipart(text/plain, application/ms-tnef, text/plain) 1\n",
      "multipart(multipart(text/plain, text/plain, text/plain), application/pgp-signature) 1\n",
      "\n",
      "\n",
      "SPAM\n",
      "text/plain 218\n",
      "text/html 183\n",
      "multipart(text/plain, text/html) 45\n",
      "multipart(text/html) 20\n",
      "multipart(text/plain) 19\n",
      "multipart(multipart(text/html)) 5\n",
      "multipart(text/plain, image/jpeg) 3\n",
      "multipart(text/html, application/octet-stream) 2\n",
      "multipart/alternative 1\n",
      "multipart(text/plain, application/octet-stream) 1\n",
      "multipart(text/html, text/plain) 1\n",
      "multipart(multipart(text/plain, text/html), image/gif) 1\n",
      "multipart(multipart(text/html), application/octet-stream, image/jpeg) 1\n",
      "\n",
      "\n"
     ]
    }
   ],
   "source": [
    "for email_type, emails in [(\"HAM\", ham_emails), (\"SPAM\", spam_emails)]:\n",
    "    print(email_type)\n",
    "    structures = count_email_structures(emails)\n",
    "    for structure, structure_cnt in sorted(structures.items(), key=lambda kv: (kv[1], kv[0]), reverse=True):\n",
    "        print(structure, structure_cnt)\n",
    "    print(\"\\n\")"
   ]
  },
  {
   "cell_type": "code",
   "execution_count": 15,
   "metadata": {},
   "outputs": [
    {
     "name": "stdout",
     "output_type": "stream",
     "text": [
      "[('Return-Path', '<12a1mailbot1@web.de>'), ('Delivered-To', 'zzzz@localhost.spamassassin.taint.org'), ('Received', 'from localhost (localhost [127.0.0.1])\\tby phobos.labs.spamassassin.taint.org (Postfix) with ESMTP id 136B943C32\\tfor <zzzz@localhost>; Thu, 22 Aug 2002 08:17:21 -0400 (EDT)'), ('Received', 'from mail.webnote.net [193.120.211.219]\\tby localhost with POP3 (fetchmail-5.9.0)\\tfor zzzz@localhost (single-drop); Thu, 22 Aug 2002 13:17:21 +0100 (IST)'), ('Received', 'from dd_it7 ([210.97.77.167])\\tby webnote.net (8.9.3/8.9.3) with ESMTP id NAA04623\\tfor <zzzz@spamassassin.taint.org>; Thu, 22 Aug 2002 13:09:41 +0100'), ('From', '12a1mailbot1@web.de'), ('Received', 'from r-smtp.korea.com - 203.122.2.197 by dd_it7  with Microsoft SMTPSVC(5.5.1775.675.6);\\t Sat, 24 Aug 2002 09:42:10 +0900'), ('To', 'dcek1a1@netsgo.com'), ('Subject', 'Life Insurance - Why Pay More?'), ('Date', 'Wed, 21 Aug 2002 20:31:57 -1600'), ('MIME-Version', '1.0'), ('Message-ID', '<0103c1042001882DD_IT7@dd_it7>'), ('Content-Type', 'text/html; charset=\"iso-8859-1\"'), ('Content-Transfer-Encoding', 'quoted-printable')]\n",
      "['Return-Path', 'Delivered-To', 'Received', 'Received', 'Received', 'From', 'Received', 'To', 'Subject', 'Date', 'MIME-Version', 'Message-ID', 'Content-Type', 'Content-Transfer-Encoding']\n",
      "['<12a1mailbot1@web.de>', 'zzzz@localhost.spamassassin.taint.org', 'from localhost (localhost [127.0.0.1])\\tby phobos.labs.spamassassin.taint.org (Postfix) with ESMTP id 136B943C32\\tfor <zzzz@localhost>; Thu, 22 Aug 2002 08:17:21 -0400 (EDT)', 'from mail.webnote.net [193.120.211.219]\\tby localhost with POP3 (fetchmail-5.9.0)\\tfor zzzz@localhost (single-drop); Thu, 22 Aug 2002 13:17:21 +0100 (IST)', 'from dd_it7 ([210.97.77.167])\\tby webnote.net (8.9.3/8.9.3) with ESMTP id NAA04623\\tfor <zzzz@spamassassin.taint.org>; Thu, 22 Aug 2002 13:09:41 +0100', '12a1mailbot1@web.de', 'from r-smtp.korea.com - 203.122.2.197 by dd_it7  with Microsoft SMTPSVC(5.5.1775.675.6);\\t Sat, 24 Aug 2002 09:42:10 +0900', 'dcek1a1@netsgo.com', 'Life Insurance - Why Pay More?', 'Wed, 21 Aug 2002 20:31:57 -1600', '1.0', '<0103c1042001882DD_IT7@dd_it7>', 'text/html; charset=\"iso-8859-1\"', 'quoted-printable']\n"
     ]
    }
   ],
   "source": [
    "print(spam_emails[0].items(), spam_emails[0].keys(), spam_emails[0].values(), sep=\"\\n\")"
   ]
  },
  {
   "cell_type": "code",
   "execution_count": 16,
   "metadata": {},
   "outputs": [
    {
     "name": "stdout",
     "output_type": "stream",
     "text": [
      "Return-Path :  <12a1mailbot1@web.de>\n",
      "Delivered-To :  zzzz@localhost.spamassassin.taint.org\n",
      "Received :  from localhost (localhost [127.0.0.1])\tby phobos.labs.spamassassin.taint.org (Postfix) with ESMTP id 136B943C32\tfor <zzzz@localhost>; Thu, 22 Aug 2002 08:17:21 -0400 (EDT)\n",
      "Received :  from mail.webnote.net [193.120.211.219]\tby localhost with POP3 (fetchmail-5.9.0)\tfor zzzz@localhost (single-drop); Thu, 22 Aug 2002 13:17:21 +0100 (IST)\n",
      "Received :  from dd_it7 ([210.97.77.167])\tby webnote.net (8.9.3/8.9.3) with ESMTP id NAA04623\tfor <zzzz@spamassassin.taint.org>; Thu, 22 Aug 2002 13:09:41 +0100\n",
      "From :  12a1mailbot1@web.de\n",
      "Received :  from r-smtp.korea.com - 203.122.2.197 by dd_it7  with Microsoft SMTPSVC(5.5.1775.675.6);\t Sat, 24 Aug 2002 09:42:10 +0900\n",
      "To :  dcek1a1@netsgo.com\n",
      "Subject :  Life Insurance - Why Pay More?\n",
      "Date :  Wed, 21 Aug 2002 20:31:57 -1600\n",
      "MIME-Version :  1.0\n",
      "Message-ID :  <0103c1042001882DD_IT7@dd_it7>\n",
      "Content-Type :  text/html; charset=\"iso-8859-1\"\n",
      "Content-Transfer-Encoding :  quoted-printable\n"
     ]
    }
   ],
   "source": [
    "for header, value in spam_emails[0].items():\n",
    "    print(header, \": \", value)"
   ]
  },
  {
   "cell_type": "code",
   "execution_count": 17,
   "metadata": {},
   "outputs": [
    {
     "data": {
      "text/plain": [
       "'Life Insurance - Why Pay More?'"
      ]
     },
     "execution_count": 17,
     "metadata": {},
     "output_type": "execute_result"
    }
   ],
   "source": [
    "spam_emails[0][\"Subject\"]"
   ]
  },
  {
   "cell_type": "markdown",
   "metadata": {},
   "source": [
    "### Function to remove HTML tags and convert to plain text"
   ]
  },
  {
   "cell_type": "code",
   "execution_count": 18,
   "metadata": {},
   "outputs": [],
   "source": [
    "import re\n",
    "from html import unescape\n",
    "\n",
    "def html_to_plain_text(html):\n",
    "    # multi-line, dot matches all (including newline), ignore case \n",
    "    # re.S: Make the '.' special character match any character at all, including a newline; without this flag, '.' will match anything except a newline.\n",
    "    # re.I: Ignore case\n",
    "    # <head.*?> --> ? is non-greedy, matches up to as few characters possible\n",
    "    text = re.sub(\"<head.*?>.*?</head>\", \"\", html, flags=re.M | re.S | re.I)\n",
    "    text = re.sub(\"<a\\s.*?>\", \" HYPERLINK \", text, flags=re.M | re.S | re.I)\n",
    "    text = re.sub(\"<.*?>\", \"\", text, flags=re.M | re.S)\n",
    "    text = re.sub(r\"(\\s*\\n)+\", \"\\n\", text, flags=re.M | re.S)\n",
    "    return unescape(text)"
   ]
  },
  {
   "cell_type": "markdown",
   "metadata": {},
   "source": [
    "### Prepare Training and Test Data"
   ]
  },
  {
   "cell_type": "code",
   "execution_count": 19,
   "metadata": {},
   "outputs": [],
   "source": [
    "from sklearn.model_selection import train_test_split\n",
    "\n",
    "X = np.array(ham_emails + spam_emails)\n",
    "y = np.array([0] * ham_num + [1] * spam_num)\n",
    "\n",
    "X_train, X_test, y_train, y_test = train_test_split(X, y, test_size=0.2, random_state=42)"
   ]
  },
  {
   "cell_type": "code",
   "execution_count": 20,
   "metadata": {},
   "outputs": [
    {
     "name": "stdout",
     "output_type": "stream",
     "text": [
      "<HTML><HEAD><TITLE></TITLE><META http-equiv=\"Content-Type\" content=\"text/html; charset=windows-1252\"><STYLE>A:link {TEX-DECORATION: none}A:active {TEXT-DECORATION: none}A:visited {TEXT-DECORATION: none}A:hover {COLOR: #0033ff; TEXT-DECORATION: underline}</STYLE><META content=\"MSHTML 6.00.2713.1100\" name=\"GENERATOR\"></HEAD>\n",
      "<BODY text=\"#000000\" vLink=\"#0033ff\" link=\"#0033ff\" bgColor=\"#CCCC99\"><TABLE borderColor=\"#660000\" cellSpacing=\"0\" cellPadding=\"0\" border=\"0\" width=\"100%\"><TR><TD bgColor=\"#CCCC99\" valign=\"top\" colspan=\"2\" height=\"27\">\n",
      "<font size=\"6\" face=\"Arial, Helvetica, sans-serif\" color=\"#660000\">\n",
      "<b>OTC</b></font></TD></TR><TR><TD height=\"2\" bgcolor=\"#6a694f\">\n",
      "<font size=\"5\" face=\"Times New Roman, Times, serif\" color=\"#FFFFFF\">\n",
      "<b>&nbsp;Newsletter</b></font></TD><TD height=\"2\" bgcolor=\"#6a694f\"><div align=\"right\"><font color=\"#FFFFFF\">\n",
      "<b>Discover Tomorrow's Winners&nbsp;</b></font></div></TD></TR><TR><TD height=\"25\" colspan=\"2\" bgcolor=\"#CCCC99\"><table width=\"100%\" border=\"0\" \n"
     ]
    }
   ],
   "source": [
    "html_spam_emails = [email for email in X_train[y_train==1] if get_email_structure(email) == \"text/html\"]\n",
    "sample_email = html_spam_emails[7]\n",
    "print(sample_email.get_content().strip()[:1000])"
   ]
  },
  {
   "cell_type": "code",
   "execution_count": 21,
   "metadata": {},
   "outputs": [
    {
     "name": "stdout",
     "output_type": "stream",
     "text": [
      "\n",
      "OTC\n",
      " Newsletter\n",
      "Discover Tomorrow's Winners \n",
      "For Immediate Release\n",
      "Cal-Bay (Stock Symbol: CBYI)\n",
      "Watch for analyst \"Strong Buy Recommendations\" and several advisory newsletters picking CBYI.  CBYI has filed to be traded on the OTCBB, share prices historically INCREASE when companies get listed on this larger trading exchange. CBYI is trading around 25 cents and should skyrocket to $2.66 - $3.25 a share in the near future.\n",
      "Put CBYI on your watch list, acquire a position TODAY.\n",
      "REASONS TO INVEST IN CBYI\n",
      "A profitable company and is on track to beat ALL earnings estimates!\n",
      "One of the FASTEST growing distributors in environmental & safety equipment instruments.\n",
      "Excellent management team, several EXCLUSIVE contracts.  IMPRESSIVE client list including the U.S. Air Force, Anheuser-Busch, Chevron Refining and Mitsubishi Heavy Industries, GE-Energy & Environmental Research.\n",
      "RAPIDLY GROWING INDUSTRY\n",
      "Industry revenues exceed $900 million, estimates indicate that there could be as much as $25 billi\n"
     ]
    }
   ],
   "source": [
    "print(html_to_plain_text(sample_email.get_content())[:1000])"
   ]
  },
  {
   "cell_type": "markdown",
   "metadata": {},
   "source": [
    "### Function to Handle Different Text-Based Email Types (text/plain and text/html)"
   ]
  },
  {
   "cell_type": "code",
   "execution_count": 22,
   "metadata": {},
   "outputs": [],
   "source": [
    "def email_to_text(email):\n",
    "    html = None\n",
    "    for part in email.walk():\n",
    "        ctype = part.get_content_type()\n",
    "        if ctype not in (\"text/plain\", \"text/html\"):\n",
    "            continue\n",
    "        try:\n",
    "            content = part.get_content()\n",
    "        except:\n",
    "            content = str(part.get_payload())\n",
    "        if ctype == \"text/plain\":\n",
    "            return content\n",
    "        else:\n",
    "            html = content\n",
    "            return html_to_plain_text(html)"
   ]
  },
  {
   "cell_type": "code",
   "execution_count": 23,
   "metadata": {},
   "outputs": [
    {
     "data": {
      "text/plain": [
       "'\\nOTC\\n\\xa0Newsletter\\nDiscover Tomorrow\\'s Winners\\xa0\\nFor Immediate Release\\nCal-Bay (Stock Symbol: CBYI)\\nWatch for analyst \"Strong Buy Recommendations\" and several advisory newsletters picking CBYI.  CBYI has filed to be traded on the OTCBB, share prices historically INCREASE when companies get listed on this larger trading exchange. CBYI is trading around 25 cents and should skyrocket to $2.66 - $3.25 a share in the near future.\\nPut CBYI on your watch list, acquire a position TODAY.\\nREASONS TO INVEST IN CBYI\\nA profitable company and is on track to beat ALL earnings estimates!\\nOne of the FASTEST growing distributors in environmental & safety equipment instruments.\\nExcellent management team, several EXCLUSIVE contracts.  IMPRESSIVE client list including the U.S. Air Force, Anheuser-Busch, Chevron Refining and Mitsubishi Heavy Industries, GE-Energy & Environmental Research.\\nRAPIDLY GROWING INDUSTRY\\nIndustry revenues exceed $900 million, estimates indicate that there could be as much as $25 billion from \"smell technology\" by the end of 2003.\\n!!!!!CONGRATULATIONS!!!!!Our last recommendation to buy ORBT at $1.29 rallied and is holding steady at $3.50! Congratulations to all our subscribers that took advantage of this recommendation.\\nALL removes HONORED. Please allow 7 days to be removed and send ALL addresses to:\\n HYPERLINK GoneForGood@btamail.net.cn\\n\\xa0\\nCertain statements contained in this news release may be forward-looking statements within the meaning of The Private Securities Litigation Reform Act of 1995. These statements may be identified by such terms as \"expect\", \"believe\", \"may\", \"will\", and \"intend\" or similar terms. We are NOT a registered investment advisor or a broker dealer. This is NOT an offer to buy or sell securities. No recommendation that the securities of the companies profiled should be purchased, sold or held by individuals or entities that learn of the profiled companies. We were paid $27,000 in cash by a third party to publish this report. Investing in companies profiled is high-risk and use of this information is for reading purposes only. If anyone decides to act as an investor, then it will be that investor\\'s sole risk. Investors are advised NOT to invest without the proper advisement from an attorney or a registered financial broker. Do not rely solely on the information presented, do additional independent research to form your own opinion and decision regarding investing in the profiled companies. Be advised that the purchase of such high-risk securities may result in the loss of your entire investment.  Not intended for recipients or residents of CA,CO,CT,DE,ID, IL,IA,LA,MO,NV,NC,OK,OH,PA,RI,TN,VA,WA,WV,WI. Void where prohibited.  The owners of this publication may already own free trading shares in CBYI and may immediately sell all or a portion of these shares into the open market at or about the time this report is published.  Factual statements are made as of the date stated and are subject to change without notice.\\nCopyright c 2001\\n≡\\nOTC\\n≡\\n***\\n'"
      ]
     },
     "execution_count": 23,
     "metadata": {},
     "output_type": "execute_result"
    }
   ],
   "source": [
    "email_to_text(sample_email)"
   ]
  },
  {
   "cell_type": "code",
   "execution_count": 24,
   "metadata": {},
   "outputs": [
    {
     "name": "stdout",
     "output_type": "stream",
     "text": [
      "comput\n",
      "comput\n",
      "comput\n",
      "comput\n",
      "comput\n",
      "compuls\n"
     ]
    }
   ],
   "source": [
    "from sklearn.feature_extraction.text import CountVectorizer\n",
    "\n",
    "try:\n",
    "    import nltk\n",
    "    stemmer = nltk.PorterStemmer()\n",
    "    for word in (\"Computations\", \"Computation\", \"Computing\", \"Computed\", \"Compute\", \"Compulsive\"):\n",
    "        print(stemmer.stem(word))\n",
    "except ImportError:\n",
    "    print(\"Error: stemming requires the NLTK module.\")\n",
    "    stemmer = None"
   ]
  },
  {
   "cell_type": "code",
   "execution_count": 25,
   "metadata": {},
   "outputs": [
    {
     "name": "stdout",
     "output_type": "stream",
     "text": [
      "['github.com', 'https://youtu.be/7Pq-S557XQU?t=3m32s']\n"
     ]
    }
   ],
   "source": [
    "try:\n",
    "    import urlextract\n",
    "    \n",
    "    url_extractor = urlextract.URLExtract()\n",
    "    print(url_extractor.find_urls(\"Will it detect github.com and https://youtu.be/7Pq-S557XQU?t=3m32s\"))\n",
    "except ImportError:\n",
    "    print(\"Error: replacing URLs requires the urlextract module.\")\n",
    "    url_extractor = None"
   ]
  },
  {
   "cell_type": "markdown",
   "metadata": {},
   "source": [
    "### Transformer to Convert Email to Word Counts"
   ]
  },
  {
   "cell_type": "code",
   "execution_count": 26,
   "metadata": {},
   "outputs": [],
   "source": [
    "from collections import Counter\n",
    "from sklearn.base import BaseEstimator, TransformerMixin\n",
    "\n",
    "class EmailtoWordCounterTransformer(BaseEstimator, TransformerMixin):\n",
    "    def __init__(self, strip_headers=True, lower_case=True, remove_punctuations=True, replace_urls=True, replace_numbers=True, stemming=True):\n",
    "        self.strip_headers = strip_headers\n",
    "        self.lower_case = lower_case\n",
    "        self.remove_punctuations = remove_punctuations\n",
    "        self.replace_urls = replace_urls\n",
    "        self.replace_numbers = replace_numbers\n",
    "        self.stemming = stemming\n",
    "    def fit(self, X, y=None):\n",
    "        return self\n",
    "    def transform(self, X, y=None):\n",
    "        X_transformed = list()\n",
    "        for email in X:\n",
    "            text = email_to_text(email) or \"\"\n",
    "            if self.lower_case:\n",
    "                text = text.lower()\n",
    "            if self.replace_urls and url_extractor is not None:\n",
    "                urls = list(set(url_extractor.find_urls(text)))\n",
    "                urls.sort(key=lambda url: len(url), reverse=True)\n",
    "                for url in urls:\n",
    "                    text = text.replace(url, \" URL \")\n",
    "            if self.replace_numbers:\n",
    "                text = re.sub(r\"\\d+(?:\\.\\d*(?:[eE]d+))?\", \" NUMBER\", text)\n",
    "            if self.remove_punctuations:\n",
    "                text = re.sub(r\"\\W+\", \" \", text, flags=re.M)\n",
    "            word_counts = Counter(text.split())\n",
    "            if self.stemming and stemmer:\n",
    "                stemmed_word_counts = Counter()\n",
    "                for word, count in word_counts.items():\n",
    "                    stemmed_word = stemmer.stem(word)\n",
    "                    stemmed_word_counts[stemmed_word] += count\n",
    "                word_counts = stemmed_word_counts\n",
    "            X_transformed.append(word_counts)\n",
    "        return np.array(X_transformed)                "
   ]
  },
  {
   "cell_type": "code",
   "execution_count": 27,
   "metadata": {},
   "outputs": [
    {
     "data": {
      "text/plain": [
       "array([Counter({'chuck': 1, 'murcko': 1, 'wrote': 1, 'stuff': 1, 'yawn': 1, 'r': 1}),\n",
       "       Counter({'the': 11, 'of': 9, 'and': 8, 'all': 3, 'christian': 3, 'to': 3, 'by': 3, 'jefferson': 2, 'i': 2, 'have': 2, 'superstit': 2, 'one': 2, 'on': 2, 'been': 2, 'ha': 2, 'half': 2, 'rogueri': 2, 'teach': 2, 'jesu': 2, 'some': 1, 'interest': 1, 'quot': 1, 'url': 1, 'thoma': 1, 'examin': 1, 'known': 1, 'word': 1, 'do': 1, 'not': 1, 'find': 1, 'in': 1, 'our': 1, 'particular': 1, 'redeem': 1, 'featur': 1, 'they': 1, 'are': 1, 'alik': 1, 'found': 1, 'fabl': 1, 'mytholog': 1, 'million': 1, 'innoc': 1, 'men': 1, 'women': 1, 'children': 1, 'sinc': 1, 'introduct': 1, 'burnt': 1, 'tortur': 1, 'fine': 1, 'imprison': 1, 'what': 1, 'effect': 1, 'thi': 1, 'coercion': 1, 'make': 1, 'world': 1, 'fool': 1, 'other': 1, 'hypocrit': 1, 'support': 1, 'error': 1, 'over': 1, 'earth': 1, 'six': 1, 'histor': 1, 'american': 1, 'john': 1, 'e': 1, 'remsburg': 1, 'letter': 1, 'william': 1, 'short': 1, 'again': 1, 'becom': 1, 'most': 1, 'pervert': 1, 'system': 1, 'that': 1, 'ever': 1, 'shone': 1, 'man': 1, 'absurd': 1, 'untruth': 1, 'were': 1, 'perpetr': 1, 'upon': 1, 'a': 1, 'larg': 1, 'band': 1, 'dupe': 1, 'import': 1, 'led': 1, 'paul': 1, 'first': 1, 'great': 1, 'corrupt': 1}),\n",
       "       Counter({'url': 4, 's': 3, 'group': 3, 'to': 3, 'in': 2, 'forteana': 2, 'martin': 2, 'an': 2, 'and': 2, 'we': 2, 'is': 2, 'yahoo': 2, 'unsubscrib': 2, 'y': 1, 'adamson': 1, 'wrote': 1, 'for': 1, 'altern': 1, 'rather': 1, 'more': 1, 'factual': 1, 'base': 1, 'rundown': 1, 'on': 1, 'hamza': 1, 'career': 1, 'includ': 1, 'hi': 1, 'belief': 1, 'that': 1, 'all': 1, 'non': 1, 'muslim': 1, 'yemen': 1, 'should': 1, 'be': 1, 'murder': 1, 'outright': 1, 'know': 1, 'how': 1, 'unbias': 1, 'memri': 1, 'don': 1, 't': 1, 'html': 1, 'rob': 1, 'sponsor': 1, 'number': 1, 'dvd': 1, 'free': 1, 'p': 1, 'join': 1, 'now': 1, 'from': 1, 'thi': 1, 'send': 1, 'email': 1, 'egroup': 1, 'com': 1, 'your': 1, 'use': 1, 'of': 1, 'subject': 1})],\n",
       "      dtype=object)"
      ]
     },
     "execution_count": 27,
     "metadata": {},
     "output_type": "execute_result"
    }
   ],
   "source": [
    "X_sample = X_train[:3]\n",
    "X_sample_word_counts = EmailtoWordCounterTransformer().fit_transform(X_sample)\n",
    "X_sample_word_counts"
   ]
  },
  {
   "cell_type": "code",
   "execution_count": 28,
   "metadata": {},
   "outputs": [
    {
     "data": {
      "text/plain": [
       "[('chuck', 1),\n",
       " ('murcko', 1),\n",
       " ('wrote', 1),\n",
       " ('stuff', 1),\n",
       " ('yawn', 1),\n",
       " ('r', 1)]"
      ]
     },
     "execution_count": 28,
     "metadata": {},
     "output_type": "execute_result"
    }
   ],
   "source": [
    "X_sample_word_counts[0].most_common(10)"
   ]
  },
  {
   "cell_type": "code",
   "execution_count": 29,
   "metadata": {},
   "outputs": [
    {
     "name": "stdout",
     "output_type": "stream",
     "text": [
      "chuck\n",
      "murcko\n",
      "wrote\n",
      "stuff\n",
      "yawn\n",
      "r\n"
     ]
    }
   ],
   "source": [
    "for elem in X_sample_word_counts[0].elements():\n",
    "    print(elem)"
   ]
  },
  {
   "cell_type": "markdown",
   "metadata": {},
   "source": [
    "### Transformer to Convert Word Counts into Sparse Matrix"
   ]
  },
  {
   "cell_type": "code",
   "execution_count": 30,
   "metadata": {},
   "outputs": [],
   "source": [
    "from scipy.sparse import csr_matrix\n",
    "# class scipy.sparse.csr_matrix(arg1, shape=None, dtype=None, copy=False)[source]\n",
    "# Compressed Sparse Row matrix\n",
    "\n",
    "class WordCountToVectorTransformer(BaseEstimator, TransformerMixin):\n",
    "    def __init__(self, vocabulary_size=1000):\n",
    "        self.vocabulary_size = vocabulary_size\n",
    "    def fit(self, X, y=None):\n",
    "        total_count = Counter()\n",
    "        for word_count in X:\n",
    "            for word, count in word_count.items():\n",
    "                total_count[word] += min(count, 10)\n",
    "        self.most_common_ = total_count.most_common()[: self.vocabulary_size]\n",
    "        self.vocabulary_ = {word: index + 1 for index, (word, count) in enumerate(self.most_common_)}\n",
    "        return self\n",
    "    def transform(self, X, y=None):\n",
    "        rows = []\n",
    "        cols = []\n",
    "        data = []\n",
    "        for row, word_count in enumerate(X):\n",
    "            for word, count in word_count.items():\n",
    "                rows.append(row)\n",
    "                cols.append(self.vocabulary_.get(word, 0))\n",
    "                data.append(count)\n",
    "        return csr_matrix((data, (rows, cols)), shape=(len(X), self.vocabulary_size + 1))"
   ]
  },
  {
   "cell_type": "code",
   "execution_count": 31,
   "metadata": {},
   "outputs": [
    {
     "data": {
      "text/plain": [
       "<3x11 sparse matrix of type '<class 'numpy.longlong'>'\n",
       "\twith 20 stored elements in Compressed Sparse Row format>"
      ]
     },
     "execution_count": 31,
     "metadata": {},
     "output_type": "execute_result"
    }
   ],
   "source": [
    "vocab_transformer = WordCountToVectorTransformer(vocabulary_size=10)\n",
    "X_sample_vector = vocab_transformer.fit_transform(X_sample_word_counts)\n",
    "X_sample_vector"
   ]
  },
  {
   "cell_type": "code",
   "execution_count": 32,
   "metadata": {},
   "outputs": [
    {
     "data": {
      "text/plain": [
       "array([[ 6,  0,  0,  0,  0,  0,  0,  0,  0,  0,  0],\n",
       "       [99, 11,  9,  8,  3,  1,  3,  1,  3,  2,  3],\n",
       "       [67,  0,  1,  2,  3,  4,  1,  2,  0,  1,  0]], dtype=int64)"
      ]
     },
     "execution_count": 32,
     "metadata": {},
     "output_type": "execute_result"
    }
   ],
   "source": [
    "X_sample_vector.toarray()"
   ]
  },
  {
   "cell_type": "code",
   "execution_count": 33,
   "metadata": {},
   "outputs": [
    {
     "data": {
      "text/plain": [
       "{'the': 1,\n",
       " 'of': 2,\n",
       " 'and': 3,\n",
       " 'to': 4,\n",
       " 'url': 5,\n",
       " 'all': 6,\n",
       " 'in': 7,\n",
       " 'christian': 8,\n",
       " 'on': 9,\n",
       " 'by': 10}"
      ]
     },
     "execution_count": 33,
     "metadata": {},
     "output_type": "execute_result"
    }
   ],
   "source": [
    "vocab_transformer.vocabulary_"
   ]
  },
  {
   "cell_type": "markdown",
   "metadata": {},
   "source": [
    "### Full Pipeline to Convert from Email to Sparse Matrix"
   ]
  },
  {
   "cell_type": "code",
   "execution_count": 34,
   "metadata": {},
   "outputs": [],
   "source": [
    "from sklearn.pipeline import Pipeline\n",
    "\n",
    "preprocessing_pipeline = Pipeline([\n",
    "    (\"email_to_wordcount\", EmailtoWordCounterTransformer()),\n",
    "    (\"wordcount_to_vector\", WordCountToVectorTransformer())\n",
    "])\n",
    "\n",
    "X_train_transformed = preprocessing_pipeline.fit_transform(X_train)"
   ]
  },
  {
   "cell_type": "markdown",
   "metadata": {},
   "source": [
    "### Apply Classification Model to Training and Test Data"
   ]
  },
  {
   "cell_type": "code",
   "execution_count": 35,
   "metadata": {},
   "outputs": [
    {
     "name": "stderr",
     "output_type": "stream",
     "text": [
      "[Parallel(n_jobs=-1)]: Using backend LokyBackend with 8 concurrent workers.\n",
      "[Parallel(n_jobs=-1)]: Done   3 out of  10 | elapsed:    2.3s remaining:    5.4s\n",
      "[Parallel(n_jobs=-1)]: Done   7 out of  10 | elapsed:    2.4s remaining:    1.0s\n",
      "[Parallel(n_jobs=-1)]: Done  10 out of  10 | elapsed:    2.5s finished\n"
     ]
    },
    {
     "data": {
      "text/plain": [
       "0.9875"
      ]
     },
     "execution_count": 35,
     "metadata": {},
     "output_type": "execute_result"
    }
   ],
   "source": [
    "from sklearn.linear_model import LogisticRegression\n",
    "from sklearn.model_selection import cross_val_score\n",
    "\n",
    "# class sklearn.linear_model.LogisticRegression(penalty='l2', dual=False, tol=0.0001, C=1.0, fit_intercept=True, intercept_scaling=1, class_weight=None, random_state=None, \n",
    "#                                               solver='lbfgs', max_iter=100, multi_class='auto', verbose=0, warm_start=False, n_jobs=None, l1_ratio=None)\n",
    "# solver{‘newton-cg’, ‘lbfgs’, ‘liblinear’, ‘sag’, ‘saga’}, default=’lbfgs’\n",
    "# Algorithm to use in the optimization problem.\n",
    "# For small datasets, ‘liblinear’ is a good choice, whereas ‘sag’ and ‘saga’ are faster for large ones.\n",
    "# For multiclass problems, only ‘newton-cg’, ‘sag’, ‘saga’ and ‘lbfgs’ handle multinomial loss; ‘liblinear’ is limited to one-versus-rest schemes.\n",
    "# ‘newton-cg’, ‘lbfgs’, ‘sag’ and ‘saga’ handle L2 or no penalty\n",
    "# ‘liblinear’ and ‘saga’ also handle L1 penalty\n",
    "# ‘saga’ also supports ‘elasticnet’ penalty\n",
    "# ‘liblinear’ does not support setting penalty='none'\n",
    "\n",
    "log_clf = LogisticRegression(solver=\"liblinear\", random_state=42)\n",
    "score = cross_val_score(log_clf, X_train_transformed, y_train, cv=10, verbose=3, n_jobs=-1)\n",
    "score.mean()"
   ]
  },
  {
   "cell_type": "code",
   "execution_count": 36,
   "metadata": {},
   "outputs": [
    {
     "name": "stdout",
     "output_type": "stream",
     "text": [
      "Precision: 94.90%\n",
      "Recall: 97.89%\n"
     ]
    }
   ],
   "source": [
    "from sklearn.metrics import precision_score, recall_score\n",
    "\n",
    "X_test_transformed = preprocessing_pipeline.transform(X_test)\n",
    "\n",
    "log_clf = LogisticRegression(solver=\"liblinear\", random_state=42)\n",
    "log_clf.fit(X_train_transformed, y_train)\n",
    "\n",
    "y_pred = log_clf.predict(X_test_transformed)\n",
    "\n",
    "print(f\"Precision: {100 * precision_score(y_test, y_pred):.2f}%\")\n",
    "print(f\"Recall: {100 * recall_score(y_test, y_pred):.2f}%\")"
   ]
  },
  {
   "cell_type": "code",
   "execution_count": 37,
   "metadata": {},
   "outputs": [
    {
     "name": "stderr",
     "output_type": "stream",
     "text": [
      "[Parallel(n_jobs=-1)]: Using backend LokyBackend with 8 concurrent workers.\n",
      "[Parallel(n_jobs=-1)]: Done   3 out of  10 | elapsed:    1.7s remaining:    3.9s\n",
      "[Parallel(n_jobs=-1)]: Done   7 out of  10 | elapsed:    1.7s remaining:    0.7s\n",
      "[Parallel(n_jobs=-1)]: Done  10 out of  10 | elapsed:    2.0s finished\n"
     ]
    },
    {
     "data": {
      "text/plain": [
       "array([[0.793, 0.207],\n",
       "       [0.961, 0.039],\n",
       "       [1.   , 0.   ],\n",
       "       [0.986, 0.014],\n",
       "       [1.   , 0.   ],\n",
       "       [1.   , 0.   ],\n",
       "       [1.   , 0.   ],\n",
       "       [1.   , 0.   ],\n",
       "       [0.125, 0.875],\n",
       "       [1.   , 0.   ]])"
      ]
     },
     "execution_count": 37,
     "metadata": {},
     "output_type": "execute_result"
    }
   ],
   "source": [
    "from sklearn.metrics import precision_recall_curve\n",
    "from sklearn.model_selection import cross_val_predict\n",
    "\n",
    "y_scores = cross_val_predict(log_clf, X_train_transformed, y_train, cv=10, method=\"predict_proba\", verbose=3, n_jobs=-1)\n",
    "y_scores[:10]"
   ]
  },
  {
   "cell_type": "code",
   "execution_count": 38,
   "metadata": {},
   "outputs": [],
   "source": [
    "precisions, recalls, thresholds = precision_recall_curve(y_train, y_scores[:, 1])"
   ]
  },
  {
   "cell_type": "code",
   "execution_count": 39,
   "metadata": {},
   "outputs": [
    {
     "data": {
      "text/plain": [
       "array([0.169, 0.169, 0.169, ..., 0.938, 0.933, 1.   ])"
      ]
     },
     "execution_count": 39,
     "metadata": {},
     "output_type": "execute_result"
    }
   ],
   "source": [
    "precisions"
   ]
  },
  {
   "cell_type": "code",
   "execution_count": 40,
   "metadata": {},
   "outputs": [
    {
     "data": {
      "text/plain": [
       "array([1.   , 0.998, 0.998, ..., 0.037, 0.035, 0.   ])"
      ]
     },
     "execution_count": 40,
     "metadata": {},
     "output_type": "execute_result"
    }
   ],
   "source": [
    "recalls"
   ]
  },
  {
   "cell_type": "code",
   "execution_count": null,
   "metadata": {},
   "outputs": [],
   "source": []
  }
 ],
 "metadata": {
  "kernelspec": {
   "display_name": "Python 3",
   "language": "python",
   "name": "python3"
  },
  "language_info": {
   "codemirror_mode": {
    "name": "ipython",
    "version": 3
   },
   "file_extension": ".py",
   "mimetype": "text/x-python",
   "name": "python",
   "nbconvert_exporter": "python",
   "pygments_lexer": "ipython3",
   "version": "3.7.6"
  }
 },
 "nbformat": 4,
 "nbformat_minor": 2
}
